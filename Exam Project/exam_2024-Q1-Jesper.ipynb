{
 "cells": [
  {
   "cell_type": "markdown",
   "metadata": {},
   "source": [
    "**Table of contents**<a id='toc0_'></a>    \n",
    "- 1. [Problem 1: Production economy and CO2 taxation](#toc1_)    \n",
    "- 2. [Problem 2: Career choice model](#toc2_)    \n",
    "- 3. [Problem 3: Barycentric interpolation](#toc3_)    \n",
    "\n",
    "<!-- vscode-jupyter-toc-config\n",
    "\tnumbering=true\n",
    "\tanchor=true\n",
    "\tflat=false\n",
    "\tminLevel=2\n",
    "\tmaxLevel=6\n",
    "\t/vscode-jupyter-toc-config -->\n",
    "<!-- THIS CELL WILL BE REPLACED ON TOC UPDATE. DO NOT WRITE YOUR TEXT IN THIS CELL -->"
   ]
  },
  {
   "cell_type": "code",
   "execution_count": 46,
   "metadata": {},
   "outputs": [
    {
     "name": "stdout",
     "output_type": "stream",
     "text": [
      "The autoreload extension is already loaded. To reload it, use:\n",
      "  %reload_ext autoreload\n"
     ]
    }
   ],
   "source": [
    "# Write your code here\n",
    "import numpy as np\n",
    "import pandas as pd\n",
    "from types import SimpleNamespace\n",
    "import matplotlib.pyplot as plt\n",
    "%load_ext autoreload\n",
    "%autoreload 2\n",
    "from Q1_full import ProductionEconomy"
   ]
  },
  {
   "cell_type": "markdown",
   "metadata": {},
   "source": [
    "## 1. <a id='toc1_'></a>[Problem 1: Production economy and CO2 taxation](#toc0_)"
   ]
  },
  {
   "cell_type": "markdown",
   "metadata": {},
   "source": [
    "Consider a production economy with two firms indexed by $j \\in \\{1,2\\}$. Each produce its own good. They solve\n",
    "\n",
    "$$\n",
    "\\begin{align*}\n",
    "\\max_{y_{j}}\\pi_{j}&=p_{j}y_{j}-w_{j}\\ell_{j}\\\\\\text{s.t.}\\;&y_{j}=A\\ell_{j}^{\\gamma}.\n",
    "\\end{align*}\n",
    "$$\n",
    "\n",
    "Optimal firm behavior is\n",
    "\n",
    "$$\n",
    "\\begin{align*}\n",
    "\\ell_{j}^{\\star}(w,p_{j})&=\\left(\\frac{p_{j}A\\gamma}{w}\\right)^{\\frac{1}{1-\\gamma}} \\\\\n",
    "y_{j}^{\\star}(w,p_{j})&=A\\left(\\ell_{j}^{\\star}(w,p_{j})\\right)^{\\gamma}\n",
    "\\end{align*}\n",
    "$$\n",
    "\n",
    "The implied profits are\n",
    "\n",
    "$$\n",
    "\\pi_{j}^*(w,p_{j})=\\frac{1-\\gamma}{\\gamma}w\\cdot\\left(\\frac{p_{j}A\\gamma}{w}\\right)^{\\frac{1}{1-\\gamma}}\n",
    "$$\n",
    "\n",
    "A single consumer supplies labor, and consumes the goods the firms produce. She also recieves the implied profits of the firm.<br>\n",
    "She solves:\n",
    "\n",
    "$$\n",
    "\\begin{align*}\n",
    "U(p_1,p_2,w,\\tau,T) = \\max_{c_{1},c_{2},\\ell} & \\log(c_{1}^{\\alpha}c_{2}^{1-\\alpha})-\\nu\\frac{\\ell^{1+\\epsilon}}{1+\\epsilon} \\\\\n",
    "\\text{s.t.}\\,\\,\\,&p_{1}c_{1}+(p_{2}+\\tau)c_{2}=w\\ell+T+\\pi_{1}^*(w,p_{1})+\\pi_{2}^*(w,p_{2})\n",
    "\\end{align*}\n",
    "$$\n",
    "\n",
    "where $\\tau$ is a tax and $T$ is lump-sum transfer. <br>\n",
    "For a given $\\ell$, it can be shown that optimal behavior is\n",
    "\n",
    "$$\n",
    "\\begin{align*}\n",
    "c_{1}(\\ell)&=\\alpha\\frac{w\\ell+T+\\pi_{1}^*(w,p_{1})+\\pi_{2}^*(w,p_{2})}{p_{1}} \\\\\n",
    "c_{2}(\\ell)&=(1-\\alpha)\\frac{w\\ell+T+\\pi_{1}^*(w,p_{1})+\\pi_{2}^*(w,p_{2})}{p_{2}+\\tau} \\\\\n",
    "\\end{align*}\n",
    "$$\n",
    "Such that optimal behavior is:\n",
    "$$\n",
    "\\ell^* = \\underset{\\ell}{\\arg\\max} \\log(\\left(c_{1}(\\ell)\\right)^{\\alpha}\\cdot \\left(c_{2}(\\ell)\\right)^{1-\\alpha})-\\nu\\frac{\\ell^{1+\\epsilon}}{1+\\epsilon} \n",
    "$$\n",
    "With optimal consumption:\n",
    "$$\n",
    "\\begin{align*}\n",
    "c_1^*=c_{1}(\\ell^*) \\\\\n",
    "c_2^*=c_{2}(\\ell^*)\\\\\n",
    "\\end{align*}\n",
    "$$\n",
    "\n",
    "\n",
    "The government chooses $\\tau$ and balances its budget so $T=\\tau c_2^*$. We initially set $\\tau,T=0$.\n",
    "\n",
    "Market clearing requires:\n",
    "\n",
    "1. Labor market: $\\ell^* = \\ell_1^* + \\ell_2^*$\n",
    "1. Good market 1: $c_1^* = y_1^*$\n",
    "1. Good market 2: $c_2^* = y_2^*$\n"
   ]
  },
  {
   "cell_type": "markdown",
   "metadata": {},
   "source": [
    "**Question 1:** Check market clearing conditions for $p_1$ in `linspace(0.1,2.0,10)` and $p_2$ in `linspace(0.1,2.0,10)`. We choose $w=1$ as numeraire."
   ]
  },
  {
   "cell_type": "code",
   "execution_count": 47,
   "metadata": {},
   "outputs": [],
   "source": [
    "par = SimpleNamespace()\n",
    "\n",
    "# firms\n",
    "par.A = 1.0\n",
    "par.gamma = 0.5\n",
    "\n",
    "# households\n",
    "par.alpha = 0.3\n",
    "par.nu = 1.0\n",
    "par.epsilon = 2.0\n",
    "\n",
    "# government\n",
    "par.tau = 0.0\n",
    "par.T = 0.0\n",
    "\n",
    "# Question 3\n",
    "par.kappa = 0.1"
   ]
  },
  {
   "cell_type": "code",
   "execution_count": 48,
   "metadata": {},
   "outputs": [
    {
     "name": "stdout",
     "output_type": "stream",
     "text": [
      "Found 1 clearing solution(s):\n",
      "p1: 0.9444, p2: 1.5778\n",
      "Labor diff: -0.06180772\n",
      "Good 1 diff: 0.04518395\n",
      "Good 2 diff: -0.06622064\n",
      "\n"
     ]
    }
   ],
   "source": [
    "# Set up the economy with initial parameters\n",
    "economy = ProductionEconomy(par)\n",
    "\n",
    "# Define price ranges\n",
    "p1_range = np.linspace(0.1, 2.0, 10)\n",
    "p2_range = np.linspace(0.1, 2.0, 10)\n",
    "\n",
    "# Check market clearing\n",
    "clearing_solutions = economy.check_market_clearing(p1_range, p2_range, threshold=1e-1)\n",
    "\n",
    "# Print results\n",
    "if clearing_solutions:\n",
    "    print(f\"Found {len(clearing_solutions)} clearing solution(s):\")\n",
    "    for solution in clearing_solutions:\n",
    "        print(f\"p1: {solution['p1']:.4f}, p2: {solution['p2']:.4f}\")\n",
    "        print(f\"Labor diff: {solution['labor_diff']:.8f}\")\n",
    "        print(f\"Good 1 diff: {solution['good1_diff']:.8f}\")\n",
    "        print(f\"Good 2 diff: {solution['good2_diff']:.8f}\")\n",
    "        print()\n",
    "else:\n",
    "    print(\"No clearing solutions found within the specified threshold.\")"
   ]
  },
  {
   "cell_type": "markdown",
   "metadata": {},
   "source": [
    "Question 1 and question 2 represent Discrete Grid vs. Continuous Search. \n",
    "In the first method, we were searching over a discrete grid of prices (using linspace). This meant we could only find solutions that happened to fall exactly on our grid points. To find a solution solution, we had to set the threshold so that our clearing remained rather imprecise. The resolution of the grid limited our accuracy.\n",
    "The root-finding method, which we shall utilise next, on the other hand, can search continuously within the price space, allowing it to find exact solutions that might fall between the grid points of the first method. Our clearing is much better, as a result. "
   ]
  },
  {
   "cell_type": "markdown",
   "metadata": {},
   "source": [
    "**Question 2:** Find the equilibrium prices $p_1$ and $p_2$.<br>\n",
    "*Hint: you can use Walras' law to only check 2 of the market clearings*"
   ]
  },
  {
   "cell_type": "code",
   "execution_count": 49,
   "metadata": {},
   "outputs": [
    {
     "name": "stdout",
     "output_type": "stream",
     "text": [
      "Equilibrium prices found:\n",
      "p1 = 0.975931\n",
      "p2 = 1.490759\n",
      "\n",
      "Market clearing conditions:\n",
      "Labor market diff: 0.00000000\n",
      "Good 1 market diff: 0.00000000\n",
      "Good 2 market diff: 0.00000000\n"
     ]
    }
   ],
   "source": [
    "initial_guess = [1.0, 1.0]  \n",
    "equilibrium_prices = economy.find_equilibrium_prices(initial_guess)\n",
    "\n",
    "if equilibrium_prices is not None:\n",
    "    p1_eq, p2_eq = equilibrium_prices\n",
    "    print(f\"Equilibrium prices found:\")\n",
    "    print(f\"p1 = {p1_eq:.6f}\")\n",
    "    print(f\"p2 = {p2_eq:.6f}\")\n",
    "    \n",
    "    # Verify all market clearing conditions\n",
    "    economy.set_prices(p1_eq, p2_eq)\n",
    "    labor_diff, good1_diff, good2_diff = economy.market_clearing()\n",
    "    print(\"\\nMarket clearing conditions:\")\n",
    "    print(f\"Labor market diff: {labor_diff:.8f}\")\n",
    "    print(f\"Good 1 market diff: {good1_diff:.8f}\")\n",
    "    print(f\"Good 2 market diff: {good2_diff:.8f}\")\n",
    "else:\n",
    "    print(\"Failed to find equilibrium prices.\")"
   ]
  },
  {
   "cell_type": "markdown",
   "metadata": {},
   "source": [
    "Using Walras' Law and only solving for two market conditions, we greatly reduce the complexity of the problem and avoid potential numerical issues that might arise from trying to simultaneously satisfy three conditions that are not independent."
   ]
  },
  {
   "cell_type": "markdown",
   "metadata": {},
   "source": [
    "Assume the government care about the social welfare function:\n",
    "\n",
    "$$\n",
    "SWF = U - \\kappa y_2^*\n",
    "$$"
   ]
  },
  {
   "cell_type": "markdown",
   "metadata": {},
   "source": [
    "Here $\\kappa$ measures the social cost of carbon emitted by the production of $y_2$ in equilibrium."
   ]
  },
  {
   "cell_type": "markdown",
   "metadata": {},
   "source": [
    "**Question 3:** What values of $\\tau$ and (implied) $T$ should the government choose to maximize $SWF$?"
   ]
  },
  {
   "cell_type": "code",
   "execution_count": 50,
   "metadata": {
    "scrolled": true
   },
   "outputs": [
    {
     "name": "stdout",
     "output_type": "stream",
     "text": [
      "Optimal tax (tau): 0.190406\n",
      "Implied transfer (T): 0.139560\n",
      "Social Welfare Function value: -0.660068\n"
     ]
    }
   ],
   "source": [
    "# Find optimal tax\n",
    "optimal_tau_A = economy.optimize_tax()\n",
    "\n",
    "if optimal_tau_A is not None:\n",
    "    print(f\"Optimal tax (tau): {optimal_tau:.6f}\")\n",
    "    \n",
    "    # Calculate and display the implied transfer\n",
    "    equilibrium_prices = economy.find_equilibrium_prices([1.0, 1.0])\n",
    "    if equilibrium_prices is not None:\n",
    "        economy.p1, economy.p2 = equilibrium_prices\n",
    "        ell_star = economy.optimal_labor_supply()\n",
    "        _, c2_star = economy.optimal_consumption(ell_star)\n",
    "        optimal_T = optimal_tau * c2_star\n",
    "        print(f\"Implied transfer (T): {optimal_T:.6f}\")\n",
    "        \n",
    "        # Display the SWF at the optimal tax\n",
    "        optimal_swf = economy.calculate_swf(optimal_tau)\n",
    "        print(f\"Social Welfare Function value: {optimal_swf:.6f}\")\n",
    "    else:\n",
    "        print(\"Failed to find equilibrium prices for the optimal tax.\")\n",
    "else:\n",
    "    print(\"Failed to find optimal tax.\")"
   ]
  },
  {
   "cell_type": "markdown",
   "metadata": {},
   "source": [
    "To be on the safe side, we cross-validate - trying to get at the optimal tax rate using a different method. Ideally, the two methods should yield the same result. "
   ]
  },
  {
   "cell_type": "code",
   "execution_count": 51,
   "metadata": {},
   "outputs": [
    {
     "name": "stdout",
     "output_type": "stream",
     "text": [
      "Optimal tau: 0.190406\n",
      "Optimal Transfer T: 0.139560\n"
     ]
    }
   ],
   "source": [
    "optimal_tau_B, optimal_T_B = economy.optimize_social_welfare()\n",
    "\n",
    "if optimal_tau_B is not None:\n",
    "    \n",
    "    print(f\"Optimal tau: {optimal_tau:.6f}\")\n",
    "    print(f\"Optimal Transfer T: {optimal_T:.6f}\")\n",
    "else:\n",
    "    print(\"Failed to find optimal tau.\")"
   ]
  },
  {
   "cell_type": "markdown",
   "metadata": {},
   "source": [
    "We create a visual to show the results. We intend to show that the optimal tax-rate coincides with where the Social Welfare Function is maximised."
   ]
  },
  {
   "cell_type": "code",
   "execution_count": 52,
   "metadata": {},
   "outputs": [
    {
     "data": {
      "image/png": "[encoded data removed]",
      "text/plain": [
       "<Figure size 2000x500 with 4 Axes>"
      ]
     },
     "metadata": {},
     "output_type": "display_data"
    }
   ],
   "source": [
    "economy.plot_tax_rate_impact()"
   ]
  },
  {
   "cell_type": "markdown",
   "metadata": {},
   "source": [
    "## 2. <a id='toc2_'></a>[Problem 2: Career choice model](#toc0_)"
   ]
  },
  {
   "cell_type": "markdown",
   "metadata": {},
   "source": [
    "Consider a graduate $i$ making a choice between entering $J$ different career tracks. <br>\n",
    "Entering career $j$ yields utility $u^k_{ij}$. This value is unknown to the graduate ex ante, but will ex post be: <br>\n",
    "$$\n",
    "    u_{i,j}^k = v_{j} + \\epsilon_{i,j}^k\n",
    "$$\n",
    "\n",
    "They know that $\\epsilon^k_{i,j}\\sim \\mathcal{N}(0,\\sigma^2)$, but they do not observe $\\epsilon^k_{i,j}$ before making their career choice. <br>"
   ]
  },
  {
   "cell_type": "markdown",
   "metadata": {},
   "source": [
    "Consider the concrete case of $J=3$ with:\n",
    "$$\n",
    "\\begin{align*}\n",
    "    v_{1} &= 1 \\\\\n",
    "    v_{2} &= 2 \\\\\n",
    "    v_{3} &= 3\n",
    "\\end{align*}\n",
    "$$"
   ]
  },
  {
   "cell_type": "markdown",
   "metadata": {},
   "source": [
    "If the graduates know the values of $v_j$ and the distribution of $\\epsilon_{i,j}^k$, they can calculate the expected utility of each career track using simulation: <br>\n",
    "$$\n",
    "    \\mathbb{E}\\left[ u^k_{i,j}\\vert v_j \\right] \\approx v_j + \\frac{1}{K}\\sum_{k=1}^K \\epsilon_{i,j}^k\n",
    "$$"
   ]
  },
  {
   "cell_type": "code",
   "execution_count": 8,
   "metadata": {},
   "outputs": [],
   "source": [
    "par = SimpleNamespace()\n",
    "par.J = 3\n",
    "par.N = 10\n",
    "par.K = 10000\n",
    "\n",
    "par.F = np.arange(1,par.N+1)\n",
    "par.sigma = 2\n",
    "\n",
    "par.v = np.array([1,2,3])\n",
    "par.c = 1"
   ]
  },
  {
   "cell_type": "markdown",
   "metadata": {},
   "source": [
    "**Question 1:** Simulate and calculate expected utility and the average realised utility for $K=10000$ draws, for each career choice $j$.\n"
   ]
  },
  {
   "cell_type": "code",
   "execution_count": 9,
   "metadata": {},
   "outputs": [],
   "source": [
    "# write your answer here"
   ]
  },
  {
   "cell_type": "markdown",
   "metadata": {},
   "source": [
    "Now consider a new scenario: Imagine that the graduate does not know $v_j$. The *only* prior information they have on the value of each job, comes from their $F_{i}$ friends that work in each career $j$. After talking with them, they know the average utility of their friends (which includes their friends' noise term), giving them the prior expecation: <br>\n",
    "$$\n",
    "\\tilde{u}^k_{i,j}\\left( F_{i}\\right) = \\frac{1}{F_{i}}\\sum_{f=1}^{F_{i}} \\left(v_{j} + \\epsilon^k_{f,j}\\right), \\; \\epsilon^k_{f,j}\\sim \\mathcal{N}(0,\\sigma^2)\n",
    "$$\n",
    "For ease of notation consider that each graduate have $F_{i}=i$ friends in each career. <br>"
   ]
  },
  {
   "cell_type": "markdown",
   "metadata": {},
   "source": [
    "For $K$ times do the following: <br>\n",
    "1. For each person $i$ draw $J\\cdot F_i$ values of $\\epsilon_{f,j}^{k}$, and calculate the prior expected utility of each career track, $\\tilde{u}^k_{i,j}\\left( F_{i}\\right)$. <br>\n",
    "Also draw their own $J$ noise terms, $\\epsilon_{i,j}^k$\n",
    "1. Each person $i$ chooses the career track with the highest expected utility: $$j_i^{k*}= \\arg\\max_{j\\in{1,2\\dots,J}}\\left\\{ \\tilde{u}^k_{i,j}\\left( F_{i}\\right)\\right\\} $$\n",
    "1. Store the chosen careers: $j_i^{k*}$, the prior expectation of the value of their chosen career: $\\tilde{u}^k_{i,j=j_i^{k*}}\\left( F_{i}\\right)$, and the realized value of their chosen career track: $u^k_{i,j=j_i^{k*}}=v_{j=j_i^{k*}}+\\epsilon_{i,j=j_i^{k*}}^k$."
   ]
  },
  {
   "cell_type": "markdown",
   "metadata": {},
   "source": [
    "Chosen values will be: <br>\n",
    "$i\\in\\left\\{1,2\\dots,N\\right\\}, N=10$ <br>\n",
    "$F_i = i$<br>\n",
    "So there are 10 graduates. The first has 1 friend in each career, the second has 2 friends, ... the tenth has 10 friends."
   ]
  },
  {
   "cell_type": "markdown",
   "metadata": {},
   "source": [
    "**Question 2:** Simulate and visualize: For each type of graduate, $i$, the share of graduates choosing each career, the average subjective expected utility of the graduates, and the average ex post realized utility given their choice. <br>\n",
    "That is, calculate and visualize: <br>\n",
    "$$\n",
    "\\begin{align*}\n",
    "    \\frac{1}{K} \\sum_{k=1}^{K} \\mathbb{I}\\left\\{ j=j_i^{k*} \\right\\}  \\;\\forall j\\in\\left\\{1,2,\\dots,J\\right\\}\n",
    "\\end{align*}\n",
    "$$\n",
    "$$\n",
    "\\begin{align*}\n",
    "    \\frac{1}{K} \\sum_{k=1}^{K} \\tilde{u}^k_{ij=j_i^{k*}}\\left( F_{i}\\right)\n",
    "\\end{align*}\n",
    "$$\n",
    "And \n",
    "$$\n",
    "\\begin{align*}\n",
    "    \\frac{1}{K} \\sum_{k=1}^{K} u^k_{ij=j_i^{k*}} \n",
    "\\end{align*}\n",
    "$$\n",
    "For each graduate $i$."
   ]
  },
  {
   "cell_type": "code",
   "execution_count": 10,
   "metadata": {},
   "outputs": [],
   "source": [
    "# Write your answer here "
   ]
  },
  {
   "cell_type": "markdown",
   "metadata": {},
   "source": [
    "After a year of working in their career, the graduates learn $u^k_{ij}$ for their chosen job $j_i^{k*}$ perfectly. <br>\n",
    "The can switch to one of the two remaining careers, for which they have the same prior as before, but it will now include a switching cost of $c$ which is known.\n",
    "Their new priors can be written as: \n",
    "$$\n",
    "\\tilde{u}^{k,2}_{ij}\\left( F_{i}\\right) = \\begin{cases}\n",
    "            \\tilde{u}^k_{ij}\\left( F_{i}\\right)-c & \\text{if } j \\neq j_i^{k*} \\\\\n",
    "            u_{ij=j_i^{k*}} & \\text{if } j = j_i^{k*}\n",
    "        \\end{cases}\n",
    "$$"
   ]
  },
  {
   "cell_type": "markdown",
   "metadata": {},
   "source": [
    "We will set $c=1$."
   ]
  },
  {
   "cell_type": "markdown",
   "metadata": {},
   "source": [
    "Their realized utility will be: <br>\n",
    "$$\n",
    "u^{k,2}_{ij}= \\begin{cases}\n",
    "            u_{ij}^k -c & \\text{if } j \\neq j_i^{k*} \\\\\n",
    "            u_{ij=j_i^{k*}} & \\text{if } j = j_i^{k*}\n",
    "        \\end{cases}\n",
    "$$"
   ]
  },
  {
   "cell_type": "markdown",
   "metadata": {},
   "source": [
    "**Question 3:** Following the same approach as in question 2, find the new optimal career choice for each $i$, $k$. Then for each $i$, calculate the average subjective expected utility from their new optimal career choice, and the ex post realized utility of that career. Also, for each $i$, calculate the share of graduates that chooses to switch careers, conditional on which career they chose in the first year. <br>"
   ]
  },
  {
   "cell_type": "code",
   "execution_count": 11,
   "metadata": {},
   "outputs": [],
   "source": [
    "# write your answer here"
   ]
  },
  {
   "cell_type": "markdown",
   "metadata": {},
   "source": [
    "## 3. <a id='toc3_'></a>[Problem 3: Barycentric interpolation](#toc0_)"
   ]
  },
  {
   "cell_type": "markdown",
   "metadata": {},
   "source": [
    "**Problem:** We have a set of random points in the unit square,\n",
    "\n",
    "$$\n",
    "\\mathcal{X} = \\{(x_1,x_2)\\,|\\,x_1\\sim\\mathcal{U}(0,1),x_2\\sim\\mathcal{U}(0,1)\\}.\n",
    "$$\n",
    "\n",
    "For these points, we know the value of some function $f(x_1,x_2)$,\n",
    "\n",
    "$$\n",
    "\\mathcal{F} = \\{f(x_1,x_2) \\,|\\, (x_1,x_2) \\in \\mathcal{X}\\}.\n",
    "$$\n",
    "\n",
    "Now we want to approximate the value $f(y_1,y_2)$ for some  $y=(y_1,y_2)$, where $y_1\\sim\\mathcal{U}(0,1)$ and $y_2\\sim\\mathcal{U}(0,1)$.\n",
    "\n",
    "**Building block I**\n",
    "\n",
    "For an arbitrary triangle $ABC$ and a point $y$, define the so-called barycentric coordinates as:\n",
    "\n",
    "$$\n",
    "\\begin{align*}\n",
    "  r^{ABC}_1 &= \\frac{(B_2-C_2)(y_1-C_1) + (C_1-B_1)(y_2-C_2)}{(B_2-C_2)(A_1-C_1) + (C_1-B_1)(A_2-C_2)} \\\\\n",
    "  r^{ABC}_2 &= \\frac{(C_2-A_2)(y_1-C_1) + (A_1-C_1)(y_2-C_2)}{(B_2-C_2)(A_1-C_1) + (C_1-B_1)(A_2-C_2)} \\\\\n",
    "  r^{ABC}_3 &= 1 - r_1 - r_2.\n",
    "\\end{align*}\n",
    "$$\n",
    "\n",
    "If $r^{ABC}_1 \\in [0,1]$, $r^{ABC}_2 \\in [0,1]$, and $r^{ABC}_3 \\in [0,1]$, then the point is inside the triangle.\n",
    "\n",
    "We always have $y = r^{ABC}_1 A + r^{ABC}_2 B + r^{ABC}_3 C$.\n",
    "\n",
    "**Building block II**\n",
    "\n",
    "Define the following points:\n",
    "\n",
    "$$\n",
    "\\begin{align*}\n",
    "A&=\\arg\\min_{(x_{1},x_{2})\\in\\mathcal{X}}\\sqrt{\\left(x_{1}-y_{1}\\right)^{2}+\\left(x_{2}-y_{2}\\right)^{2}}\\text{ s.t. }x_{1}>y_{1}\\text{ and }x_{2}>y_{2}\\\\\n",
    "B&=\\arg\\min_{(x_{1},x_{2})\\in\\mathcal{X}}\\sqrt{\\left(x_{1}-y_{1}\\right)^{2}+\\left(x_{2}-y_{2}\\right)^{2}}\\text{ s.t. }x_{1}>y_{1}\\text{ and }x_{2}<y_{2}\\\\\n",
    "C&=\\arg\\min_{(x_{1},x_{2})\\in\\mathcal{X}}\\sqrt{\\left(x_{1}-y_{1}\\right)^{2}+\\left(x_{2}-y_{2}\\right)^{2}}\\text{ s.t. }x_{1}<y_{1}\\text{ and }x_{2}<y_{2}\\\\\n",
    "D&=\\arg\\min_{(x_{1},x_{2})\\in\\mathcal{X}}\\sqrt{\\left(x_{1}-y_{1}\\right)^{2}+\\left(x_{2}-y_{2}\\right)^{2}}\\text{ s.t. }x_{1}<y_{1}\\text{ and }x_{2}>y_{2}.\n",
    "\\end{align*}\n",
    "$$\n",
    "\n",
    "**Algorithm:**\n",
    "\n",
    "1. Compute $A$, $B$, $C$, and $D$. If not possible return `NaN`.\n",
    "1. If $y$ is inside the triangle $ABC$ return $r^{ABC}_1 f(A) + r^{ABC}_2 f(B) + r^{ABC}_3 f(C)$.\n",
    "1. If $y$ is inside the triangle $CDA$ return $r^{CDA}_1 f(C) + r^{CDA}_2 f(D) + r^{CDA}_3 f(A)$.\n",
    "1. Return `NaN`.\n",
    "\n"
   ]
  },
  {
   "cell_type": "markdown",
   "metadata": {},
   "source": [
    "**Sample:**"
   ]
  },
  {
   "cell_type": "code",
   "execution_count": 12,
   "metadata": {},
   "outputs": [],
   "source": [
    "rng = np.random.default_rng(2024)\n",
    "\n",
    "X = rng.uniform(size=(50,2))\n",
    "y = rng.uniform(size=(2,))\n"
   ]
  },
  {
   "cell_type": "markdown",
   "metadata": {},
   "source": [
    "**Questions 1:** Find $A$, $B$, $C$ and $D$. Illustrate these together with $X$, $y$ and the triangles $ABC$ and $CDA$."
   ]
  },
  {
   "cell_type": "markdown",
   "metadata": {},
   "source": [
    "We generate 50 random function values for the 50 points in X. These values are dummy values for illustration purposes. We initialise the BarycentricInterpolation object with the generated points X and their corresponding dummy function values. We call the **compute_closest_points** method to find the closest points A, B, C, and D around the query point, y. We print coordinates and **plot** method to visualize the points and the triangles formed by A, B, C, and D.\n",
    "\n",
    "Our query point, y, is plotted as a red dot. The closest points: A, B, C, and D around the query point are plotted in different colors. Triangle ABC is filled with light blue color, showing the region used for barycentric interpolation if the query point y lies inside it. Triangle CDA, filled with light green color, showing the alternate region for interpolation if the query point conversely lies inside this triangle."
   ]
  },
  {
   "cell_type": "code",
   "execution_count": 13,
   "metadata": {},
   "outputs": [
    {
     "name": "stdout",
     "output_type": "stream",
     "text": [
      "A: [0.26071605 0.43635845]\n",
      "B: [0.21315735 0.274245  ]\n",
      "C: [0.10056103 0.27951775]\n",
      "D: [0.20634391 0.44272557]\n"
     ]
    },
    {
     "data": {
      "image/png": "[encoded data removed]",
      "text/plain": [
       "<Figure size 800x800 with 1 Axes>"
      ]
     },
     "metadata": {},
     "output_type": "display_data"
    }
   ],
   "source": [
    "from Q3 import BarycentricInterpolation\n",
    "\n",
    "#Dummy values for illustration\n",
    "f_values = rng.uniform(size=(50,))\n",
    "\n",
    "#Answer\n",
    "interpolator = BarycentricInterpolation(X, f_values)\n",
    "A, B, C, D = interpolator.compute_closest_points(y)\n",
    "print(\"A:\", A)\n",
    "print(\"B:\", B)\n",
    "print(\"C:\", C)\n",
    "print(\"D:\", D)\n",
    "\n",
    "# Plot the points and the triangles\n",
    "interpolator.plot(y)"
   ]
  },
  {
   "cell_type": "markdown",
   "metadata": {},
   "source": [
    "#### Understanding the Algorithm \n",
    "\n",
    "The algorithm calculates the barycentric coordinates of \\( y \\) with respect to each triangle. Barycentric coordinates \\( (r_1, r_2, r_3) \\) express \\( y \\) as a weighted sum of the vertices of the triangle.\n",
    "\n",
    "#### Determine Containment\n",
    "\n",
    "The barycentric coordinates are checked to see if \\( y \\) lies within triangle \\( ABC \\) (i.e., all coordinates are between 0 and 1). If \\( y \\) does not lie within \\( ABC \\), the algorithm checks triangle \\( CDA \\).\n",
    "\n",
    "#### Interpolation\n",
    "\n",
    "If \\( y \\) lies within triangle \\( ABC \\):\n",
    "\n",
    "\\[\n",
    "f(y) \\approx r_1 f(A) + r_2 f(B) + r_3 f(C)\n",
    "\\]\n",
    "\n",
    "If \\( y \\) lies within triangle \\( CDA \\):\n",
    "\n",
    "\\[\n",
    "f(y) \\approx r_1 f(C) + r_2 f(D) + r_3 f(A)\n",
    "\\]\n",
    "\n",
    "If \\( y \\) lies outside both triangles, interpolation is not possible.\n",
    "\n",
    "#### Summary\n",
    "\n",
    "The triangles \\( ABC \\) and \\( CDA \\) provide the geometric framework to express the query point \\( y \\) in terms of the function values at the vertices, allowing for an interpolated approximation of \\( f(y) \\)."
   ]
  },
  {
   "cell_type": "markdown",
   "metadata": {},
   "source": [
    "**Question 2:** Compute the barycentric coordinates of the point $y$ with respect to the triangles $ABC$ and $CDA$. Which triangle is $y$ located inside?"
   ]
  },
  {
   "cell_type": "code",
   "execution_count": 14,
   "metadata": {},
   "outputs": [
    {
     "name": "stdout",
     "output_type": "stream",
     "text": [
      "Point y is inside triangle ABC\n",
      "Barycentric coordinates: (0.6286263152916166, 0.06910145494351515, 0.3022722297648682)\n"
     ]
    }
   ],
   "source": [
    "# Find barycentric coordinates and determine the triangle\n",
    "triangle, coordinates = interpolator.find_triangle_and_coordinates(y)\n",
    "print(f\"Point y is inside triangle {triangle}\")\n",
    "if coordinates:\n",
    "    print(\"Barycentric coordinates:\", coordinates) "
   ]
  },
  {
   "cell_type": "markdown",
   "metadata": {},
   "source": [
    "Now consider the function:\n",
    "$$\n",
    "f(x_1,x_2) = x_1 \\cdot x_2\n",
    "$$"
   ]
  },
  {
   "cell_type": "code",
   "execution_count": 15,
   "metadata": {},
   "outputs": [],
   "source": [
    "f = lambda x: x[0]*x[1]\n",
    "F = np.array([f(x) for x in X])"
   ]
  },
  {
   "cell_type": "markdown",
   "metadata": {},
   "source": [
    "**Question 3:** Compute the approximation of $f(y)$ using the full algorithm. Compare with the true value."
   ]
  },
  {
   "cell_type": "markdown",
   "metadata": {},
   "source": [
    "We understand this as if we are being asked to calculate interpolated values for all 50 points. We hold these up against the true values, we list the difference - as well as which triangle the points fit into. We present results in a table below. "
   ]
  },
  {
   "cell_type": "code",
   "execution_count": 16,
   "metadata": {},
   "outputs": [
    {
     "name": "stdout",
     "output_type": "stream",
     "text": [
      "              Point  True Value  Interpolated Value  Difference Triangle\n",
      "X1   (0.676, 0.214)       0.145               0.150      -0.005      ABC\n",
      "X2   (0.309, 0.799)       0.247               0.253      -0.006      ABC\n",
      "X3   (0.996, 0.142)       0.142                 NaN         NaN     None\n",
      "X4   (0.079, 0.181)       0.014               0.017      -0.002      CDA\n",
      "X5   (0.360, 0.170)       0.061               0.070      -0.009      CDA\n",
      "X6   (0.589, 0.617)       0.363               0.372      -0.009      ABC\n",
      "X7   (0.105, 0.566)       0.060               0.063      -0.004      ABC\n",
      "X8   (0.005, 0.465)       0.002                 NaN         NaN     None\n",
      "X9   (0.976, 0.799)       0.780                 NaN         NaN     None\n",
      "X10  (0.597, 0.325)       0.194               0.196      -0.002      CDA\n",
      "X11  (0.206, 0.443)       0.091               0.099      -0.008      ABC\n",
      "X12  (0.278, 0.875)       0.243                 NaN         NaN     None\n",
      "X13  (0.213, 0.274)       0.058               0.059      -0.000      CDA\n",
      "X14  (0.807, 0.268)       0.217               0.219      -0.002      CDA\n",
      "X15  (0.268, 0.071)       0.019               0.023      -0.004      CDA\n",
      "X16  (0.467, 0.264)       0.123               0.130      -0.007      CDA\n",
      "X17  (0.889, 0.286)       0.255               0.251       0.003      ABC\n",
      "X18  (0.774, 0.487)       0.377               0.381      -0.004      CDA\n",
      "X19  (0.468, 0.965)       0.452                 NaN         NaN     None\n",
      "X20  (0.898, 0.079)       0.071                 NaN         NaN     None\n",
      "X21  (0.245, 0.185)       0.045               0.048      -0.002      CDA\n",
      "X22  (0.905, 0.554)       0.501               0.502      -0.001      CDA\n",
      "X23  (0.372, 0.834)       0.310               0.311      -0.001      ABC\n",
      "X24  (0.349, 0.682)       0.238               0.240      -0.003      ABC\n",
      "X25  (0.228, 0.024)       0.005               0.007      -0.001      ABC\n",
      "X26  (0.696, 0.337)       0.234               0.236      -0.002      ABC\n",
      "X27  (0.342, 0.276)       0.094               0.098      -0.004      ABC\n",
      "X28  (0.251, 0.570)       0.143               0.149      -0.006      CDA\n",
      "X29  (0.334, 0.426)       0.142               0.144      -0.002      ABC\n",
      "X30  (0.202, 0.505)       0.102               0.104      -0.002      ABC\n",
      "X31  (0.585, 0.420)       0.246               0.252      -0.006      CDA\n",
      "X32  (0.403, 0.944)       0.381                 NaN         NaN     None\n",
      "X33  (0.048, 0.326)       0.016               0.016      -0.000      CDA\n",
      "X34  (0.519, 0.598)       0.311               0.313      -0.002      CDA\n",
      "X35  (0.042, 0.241)       0.010                 NaN         NaN     None\n",
      "X36  (0.054, 0.008)       0.000                 NaN         NaN     None\n",
      "X37  (0.322, 0.407)       0.131               0.133      -0.002      ABC\n",
      "X38  (0.859, 0.013)       0.012                 NaN         NaN     None\n",
      "X39  (0.716, 0.457)       0.327               0.326       0.002      CDA\n",
      "X40  (0.589, 0.146)       0.086               0.091      -0.005      ABC\n",
      "X41  (0.802, 0.379)       0.304               0.313      -0.009      CDA\n",
      "X42  (0.410, 0.566)       0.232               0.235      -0.003      CDA\n",
      "X43  (0.261, 0.436)       0.114               0.120      -0.007      CDA\n",
      "X44  (0.135, 0.703)       0.095                 NaN         NaN     None\n",
      "X45  (0.101, 0.280)       0.028               0.032      -0.004      ABC\n",
      "X46  (0.219, 0.132)       0.029               0.032      -0.004      ABC\n",
      "X47  (0.549, 0.197)       0.108               0.111      -0.003      CDA\n",
      "X48  (0.751, 0.280)       0.210               0.214      -0.003      ABC\n",
      "X49  (0.968, 0.565)       0.547               0.545       0.002      ABC\n",
      "X50  (0.088, 0.620)       0.055                 NaN         NaN     None\n"
     ]
    }
   ],
   "source": [
    "# Initialize the interpolator without verbose mode\n",
    "interpolator = BarycentricInterpolation(X, F, verbose=False)\n",
    "\n",
    "# Create a DataFrame to store the results\n",
    "results = []\n",
    "\n",
    "# Iterate over each point in X, compute the true value, interpolated value, and the difference\n",
    "for i, x in enumerate(X):\n",
    "    true_value = f(x)\n",
    "    try:\n",
    "        interpolated_value = interpolator.interpolate(x)\n",
    "        if np.isnan(interpolated_value):\n",
    "            raise ValueError(\"Interpolation returned NaN\")\n",
    "        triangle, coords = interpolator.find_triangle_and_coordinates(x)\n",
    "    except Exception as e:\n",
    "        interpolated_value = None\n",
    "        triangle = \"None\"\n",
    "    \n",
    "    difference = true_value - interpolated_value if interpolated_value is not None else None\n",
    "    \n",
    "    results.append({\n",
    "        \"Point\": f\"({x[0]:.3f}, {x[1]:.3f})\",\n",
    "        \"True Value\": true_value,\n",
    "        \"Interpolated Value\": interpolated_value,\n",
    "        \"Difference\": difference,\n",
    "        \"Triangle\": triangle\n",
    "    })\n",
    "\n",
    "# Convert the results to a DataFrame\n",
    "df_results = pd.DataFrame(results)\n",
    "\n",
    "# Format the DataFrame to show values with three decimal places\n",
    "df_results[\"True Value\"] = df_results[\"True Value\"].round(3)\n",
    "df_results[\"Interpolated Value\"] = df_results[\"Interpolated Value\"].round(3)\n",
    "df_results[\"Difference\"] = df_results[\"Difference\"].round(3)\n",
    "\n",
    "# Display the DataFrame\n",
    "df_results.index = [f\"X{i+1}\" for i in range(len(df_results))]\n",
    "print(df_results)"
   ]
  },
  {
   "cell_type": "markdown",
   "metadata": {},
   "source": [
    "**Question 4:** Repeat question 3 for all points in the set $Y$."
   ]
  },
  {
   "cell_type": "code",
   "execution_count": 17,
   "metadata": {},
   "outputs": [],
   "source": [
    "Y = [(0.2,0.2),(0.8,0.2),(0.8,0.8),(0.8,0.2),(0.5,0.5)]"
   ]
  },
  {
   "cell_type": "code",
   "execution_count": 18,
   "metadata": {},
   "outputs": [
    {
     "name": "stdout",
     "output_type": "stream",
     "text": [
      "Point y: (0.2, 0.2)\n",
      "Approximated value of f(y): 0.0403\n",
      "True value of f(y): 0.0400\n",
      "\n",
      "Point y: (0.8, 0.2)\n",
      "Approximated value of f(y): 0.1587\n",
      "True value of f(y): 0.1600\n",
      "\n",
      "Error occurred while processing point (0.8, 0.8): Interpolation returned NaN\n",
      "Point y: (0.8, 0.8)\n",
      "Approximated value of f(y): None\n",
      "True value of f(y): 0.6400\n",
      "\n",
      "Point y: (0.8, 0.2)\n",
      "Approximated value of f(y): 0.1587\n",
      "True value of f(y): 0.1600\n",
      "\n",
      "Point y: (0.5, 0.5)\n",
      "Approximated value of f(y): 0.2513\n",
      "True value of f(y): 0.2500\n",
      "\n"
     ]
    }
   ],
   "source": [
    "for y in Y:\n",
    "    try:\n",
    "        approximated_value = interpolator.interpolate(y)\n",
    "        if np.isnan(approximated_value):\n",
    "            raise ValueError(\"Interpolation returned NaN\")\n",
    "    except Exception as e:\n",
    "        approximated_value = None\n",
    "        print(f\"Error occurred while processing point {y}: {e}\")\n",
    "\n",
    "    true_value = f(y)\n",
    "    if approximated_value is not None:\n",
    "        print(f\"Point y: {y}\")\n",
    "        print(f\"Approximated value of f(y): {approximated_value:.4f}\")\n",
    "        print(f\"True value of f(y): {true_value:.4f}\")\n",
    "    else:\n",
    "        print(f\"Point y: {y}\")\n",
    "        print(f\"Approximated value of f(y): {approximated_value}\")\n",
    "        print(f\"True value of f(y): {true_value:.4f}\")\n",
    "    print()"
   ]
  },
  {
   "cell_type": "markdown",
   "metadata": {},
   "source": [
    "(As was the case in Q3.3) We have difficulties interpolating one of the points above. We are lacking an \"A\". To see, if this is a problem with the algorithm, or with the size of the sample, we amend our sample to make the grid finer. In so far as the sample size is the issue, we expect this to solve the problem, making it possible to create interpolations for all points in the list. For the algorithm to work we need all four points. "
   ]
  },
  {
   "cell_type": "code",
   "execution_count": 19,
   "metadata": {},
   "outputs": [
    {
     "name": "stdout",
     "output_type": "stream",
     "text": [
      "Point y: (0.2, 0.2)\n",
      "Approximated value of f(y): 0.0401\n",
      "True value of f(y): 0.0400\n",
      "\n",
      "Point y: (0.8, 0.2)\n",
      "Approximated value of f(y): 0.1601\n",
      "True value of f(y): 0.1600\n",
      "\n",
      "Point y: (0.8, 0.8)\n",
      "Approximated value of f(y): 0.6396\n",
      "True value of f(y): 0.6400\n",
      "\n",
      "Point y: (0.8, 0.2)\n",
      "Approximated value of f(y): 0.1601\n",
      "True value of f(y): 0.1600\n",
      "\n",
      "Point y: (0.5, 0.5)\n",
      "Approximated value of f(y): 0.2500\n",
      "True value of f(y): 0.2500\n",
      "\n"
     ]
    }
   ],
   "source": [
    "f = lambda x: x[0] * x[1]\n",
    "\n",
    "# Generate a larger set of random points and their function values\n",
    "rng = np.random.default_rng(2024)\n",
    "X = rng.uniform(size=(500, 2))\n",
    "F = np.array([f(x) for x in X])\n",
    "\n",
    "# Define again the set of points Y\n",
    "Y = [(0.2, 0.2), (0.8, 0.2), (0.8, 0.8), (0.8, 0.2), (0.5, 0.5)]\n",
    "\n",
    "# Initialize the interpolator\n",
    "interpolator = BarycentricInterpolation(X, F)\n",
    "\n",
    "# Iterate over each point in Y, compute the approximation and compare with the true value\n",
    "for y in Y:\n",
    "    try:\n",
    "        approximated_value = interpolator.interpolate(y)\n",
    "        if np.isnan(approximated_value):\n",
    "            raise ValueError(\"Interpolation returned NaN\")\n",
    "    except Exception as e:\n",
    "        approximated_value = None\n",
    "        print(f\"Error occurred while processing point {y}: {e}\")\n",
    "\n",
    "    true_value = f(y)\n",
    "    if approximated_value is not None:\n",
    "        print(f\"Point y: {y}\")\n",
    "        print(f\"Approximated value of f(y): {approximated_value:.4f}\")\n",
    "        print(f\"True value of f(y): {true_value:.4f}\")\n",
    "    else:\n",
    "        print(f\"Point y: {y}\")\n",
    "        print(f\"Approximated value of f(y): {approximated_value}\")\n",
    "        print(f\"True value of f(y): {true_value:.4f}\")\n",
    "    print()\n"
   ]
  },
  {
   "cell_type": "markdown",
   "metadata": {},
   "source": [
    "This appears to have solved the problem. "
   ]
  },
  {
   "cell_type": "code",
   "execution_count": null,
   "metadata": {},
   "outputs": [],
   "source": []
  }
 ],
 "metadata": {
  "kernelspec": {
   "display_name": "Python 3 (ipykernel)",
   "language": "python",
   "name": "python3"
  },
  "language_info": {
   "codemirror_mode": {
    "name": "ipython",
    "version": 3
   },
   "file_extension": ".py",
   "mimetype": "text/x-python",
   "name": "python",
   "nbconvert_exporter": "python",
   "pygments_lexer": "ipython3",
   "version": "3.11.7"
  }
 },
 "nbformat": 4,
 "nbformat_minor": 4
}
