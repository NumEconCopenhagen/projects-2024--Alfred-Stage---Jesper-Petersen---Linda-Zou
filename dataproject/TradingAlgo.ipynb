{
 "cells": [
  {
   "cell_type": "code",
   "execution_count": null,
   "id": "14cebaef-6dfd-473b-b76e-fdd4be34d760",
   "metadata": {
    "tags": []
   },
   "outputs": [],
   "source": [
    "from mean_reversion_algo import MeanReversionAlgo\n",
    "%load_ext autoreload\n",
    "%autoreload 2"
   ]
  },
  {
   "cell_type": "markdown",
   "id": "6e3cea24-a912-4e55-b6e1-493e1a68f376",
   "metadata": {},
   "source": [
    "### Trading Algorithm \n",
    "\n",
    "We define our strategy as an intraday mean-reversion. We look for \"biggest loss days\" and \"biggest win days\". \n",
    "We want to probe at an answer to the question: what happened the following day? \n",
    "\n",
    "In so far as yesterday's losers gain today, or vice versa, this should be more actionable. We can always look up who was yesterday's biggest loser. We don't need any further info. Does this alone give us an edge? \n",
    "\n",
    "What if we condition on winners/losers above a certain threshold? What if we condition on the index being overal up/down? Find out! \n",
    "\n",
    "We allow the opportunity to import data from the 1) Dow-Jones index, 2) the Nasdaq and 3) the Nifty50. \n",
    "\n",
    "## How do you use the algorithm? (simple case) \n",
    "index_algo = MeanReversionAlgo(index='dow')\n",
    "index_algo.run()\n",
    "\n",
    "#### Pure plot without conditions\n",
    "index_algo.plot_results()\n",
    "\n",
    "#### Conditional plot based on index performance up\n",
    "index_algo.plot_results(index_condition='up')\n",
    "\n",
    "#### Conditional plot based on winners, up more than 5%, on days when the index was down\n",
    "index_algo.plot_results(index_condition='down', category_condition={'type': 'winner', 'thresholds': (5, None)})\n",
    "\n",
    "#### Conditional correlation winners, up more than 30%, on days when the index was up\n",
    "index_algo.calculate_segmented_correlation(index_condition='up', category_condition={'type': 'winner', 'thresholds': (30, None)})"
   ]
  },
  {
   "cell_type": "markdown",
   "id": "e5148573-615a-41e4-8db7-02f7569b8e16",
   "metadata": {},
   "source": [
    "## Let's look at the Dow in the period from Jan20 up until last week. "
   ]
  },
  {
   "cell_type": "code",
   "execution_count": null,
   "id": "cd36371f-6fa3-4d2b-9233-1413e6eb31f8",
   "metadata": {
    "tags": []
   },
   "outputs": [],
   "source": [
    "dow = MeanReversionAlgo(index='dow', start_date=\"01/01/2020\", end_date=\"22/03/2024\")\n",
    "dow.run()"
   ]
  },
  {
   "cell_type": "markdown",
   "id": "f43148d6-dfb4-4407-9001-f47dd64af9d7",
   "metadata": {
    "tags": []
   },
   "source": [
    "## Let's check out what happens if we control for index-overall, and whether you're a winner/loser"
   ]
  },
  {
   "cell_type": "code",
   "execution_count": null,
   "id": "2c45c59c-2615-4c6e-ac2f-d1b2b0cf4232",
   "metadata": {
    "tags": []
   },
   "outputs": [],
   "source": [
    "dow.plot_results(index_condition='up', category_condition={'type': 'winner', 'thresholds': (5, None)})"
   ]
  },
  {
   "cell_type": "code",
   "execution_count": null,
   "id": "1027b90a-64a2-4e24-b766-5c9fd367cf23",
   "metadata": {
    "tags": []
   },
   "outputs": [],
   "source": [
    "dow.plot_results(index_condition='down', category_condition={'type': 'loser', 'thresholds': (5, None)})"
   ]
  },
  {
   "cell_type": "markdown",
   "id": "107a89fa-a8d6-4ff5-96d2-0ac1eca140c7",
   "metadata": {},
   "source": [
    "## Now let's turn to Nifty 50 "
   ]
  },
  {
   "cell_type": "code",
   "execution_count": null,
   "id": "fe5dc6b8-e798-45eb-93fb-52eb3af7a363",
   "metadata": {
    "tags": []
   },
   "outputs": [],
   "source": [
    "nifty = MeanReversionAlgo(index='nifty50', start_date=\"01/01/2020\", end_date=\"22/03/2024\")\n",
    "nifty.run()"
   ]
  },
  {
   "cell_type": "code",
   "execution_count": null,
   "id": "f44c5347-3541-48ac-99a6-8256d6777fa0",
   "metadata": {
    "tags": []
   },
   "outputs": [],
   "source": [
    "nifty.plot_results(index_condition='down', category_condition={'type': 'loser', 'thresholds': (7, None)})"
   ]
  },
  {
   "cell_type": "markdown",
   "id": "01955df9-d297-440e-a8b8-878f7eaa1701",
   "metadata": {},
   "source": [
    "## Finally, let's do Nasdaq (be warned ... \n",
    "... dataset larger, so this will take a while  "
   ]
  },
  {
   "cell_type": "code",
   "execution_count": null,
   "id": "7429b84c-28cb-4eba-b376-6dc1043180c2",
   "metadata": {
    "tags": []
   },
   "outputs": [],
   "source": [
    "nasdaq = MeanReversionAlgo(index='nasdaq', start_date=\"01/01/2020\", end_date=\"22/03/2024\")\n",
    "nasdaq.run()"
   ]
  },
  {
   "cell_type": "code",
   "execution_count": null,
   "id": "34c8406b-520b-4b92-815d-e0f23dac7a8f",
   "metadata": {},
   "outputs": [],
   "source": [
    "nasdaq.plot_results(index_condition='up', category_condition={'type': 'winner', 'thresholds': (30, None)})"
   ]
  },
  {
   "cell_type": "code",
   "execution_count": null,
   "id": "a25c3ec9-10f8-4022-a146-c571a734634e",
   "metadata": {
    "tags": []
   },
   "outputs": [],
   "source": [
    "nasdaq.calculate_segmented_correlation(index_condition='up', category_condition={'type': 'winner', 'thresholds': (30, None)})"
   ]
  },
  {
   "cell_type": "markdown",
   "id": "e9916cef",
   "metadata": {},
   "source": [
    "Know lets apply this for two individual stocks Alphabet Class A and Cooper-Standard Holdings. The reasoning behind this move is to demonstrate that our theory for the market also can be applied for a higher correlated stock to the stock market (GOOGL) and a less correlated stock (CPS). Note that there is a difference in their volatility, but we disregard this.\n",
    "\n",
    "We will now see what happend the next day after the stocks fell -5% or more, and calculate the likelihood of a next day increase.\n",
    "This can to some degree validate if our strategy works on individual stock names. If the likelihood is greater than 50% for an increase, then there is a probability that our strategy is profitable. "
   ]
  },
  {
   "cell_type": "code",
   "execution_count": 1,
   "id": "5035aa9f",
   "metadata": {},
   "outputs": [
    {
     "name": "stderr",
     "output_type": "stream",
     "text": [
      "[*********************100%%**********************]  1 of 1 completed\n",
      "\n",
      "1 Failed download:\n",
      "['GOOGL']: ConnectionError(MaxRetryError('HTTPSConnectionPool(host=\\'query1.finance.yahoo.com\\', port=443): Max retries exceeded with url: /v1/test/getcrumb (Caused by NameResolutionError(\"<urllib3.connection.HTTPSConnection object at 0x15a116110>: Failed to resolve \\'query1.finance.yahoo.com\\' ([Errno 8] nodename nor servname provided, or not known)\"))'))\n"
     ]
    },
    {
     "ename": "ValueError",
     "evalue": "attempt to get argmax of an empty sequence",
     "output_type": "error",
     "traceback": [
      "\u001b[0;31m---------------------------------------------------------------------------\u001b[0m",
      "\u001b[0;31mValueError\u001b[0m                                Traceback (most recent call last)",
      "Cell \u001b[0;32mIn[1], line 9\u001b[0m\n\u001b[1;32m      6\u001b[0m googl \u001b[38;5;241m=\u001b[39m yf\u001b[38;5;241m.\u001b[39mdownload(\u001b[38;5;124m'\u001b[39m\u001b[38;5;124mGOOGL\u001b[39m\u001b[38;5;124m'\u001b[39m, start\u001b[38;5;241m=\u001b[39m\u001b[38;5;124m'\u001b[39m\u001b[38;5;124m2015-01-01\u001b[39m\u001b[38;5;124m'\u001b[39m)\n\u001b[1;32m      8\u001b[0m \u001b[38;5;66;03m# Calculate daily returns\u001b[39;00m\n\u001b[0;32m----> 9\u001b[0m googl[\u001b[38;5;124m'\u001b[39m\u001b[38;5;124mDaily Return\u001b[39m\u001b[38;5;124m'\u001b[39m] \u001b[38;5;241m=\u001b[39m googl[\u001b[38;5;124m'\u001b[39m\u001b[38;5;124mAdj Close\u001b[39m\u001b[38;5;124m'\u001b[39m]\u001b[38;5;241m.\u001b[39mpct_change() \u001b[38;5;241m*\u001b[39m \u001b[38;5;241m100\u001b[39m\n\u001b[1;32m     11\u001b[0m \u001b[38;5;66;03m# Filter the days where the stock fell by 5% or more\u001b[39;00m\n\u001b[1;32m     12\u001b[0m down_days \u001b[38;5;241m=\u001b[39m googl[googl[\u001b[38;5;124m'\u001b[39m\u001b[38;5;124mDaily Return\u001b[39m\u001b[38;5;124m'\u001b[39m] \u001b[38;5;241m<\u001b[39m\u001b[38;5;241m=\u001b[39m \u001b[38;5;241m-\u001b[39m\u001b[38;5;241m5\u001b[39m]\n",
      "File \u001b[0;32m~/anaconda3/lib/python3.11/site-packages/pandas/core/generic.py:11698\u001b[0m, in \u001b[0;36mNDFrame.pct_change\u001b[0;34m(self, periods, fill_method, limit, freq, **kwargs)\u001b[0m\n\u001b[1;32m  11696\u001b[0m \u001b[38;5;28;01mfor\u001b[39;00m _, col \u001b[38;5;129;01min\u001b[39;00m cols:\n\u001b[1;32m  11697\u001b[0m     mask \u001b[38;5;241m=\u001b[39m col\u001b[38;5;241m.\u001b[39misna()\u001b[38;5;241m.\u001b[39mvalues\n\u001b[0;32m> 11698\u001b[0m     mask \u001b[38;5;241m=\u001b[39m mask[np\u001b[38;5;241m.\u001b[39margmax(\u001b[38;5;241m~\u001b[39mmask) :]\n\u001b[1;32m  11699\u001b[0m     \u001b[38;5;28;01mif\u001b[39;00m mask\u001b[38;5;241m.\u001b[39many():\n\u001b[1;32m  11700\u001b[0m         warnings\u001b[38;5;241m.\u001b[39mwarn(\n\u001b[1;32m  11701\u001b[0m             \u001b[38;5;124m\"\u001b[39m\u001b[38;5;124mThe default fill_method=\u001b[39m\u001b[38;5;124m'\u001b[39m\u001b[38;5;124mpad\u001b[39m\u001b[38;5;124m'\u001b[39m\u001b[38;5;124m in \u001b[39m\u001b[38;5;124m\"\u001b[39m\n\u001b[1;32m  11702\u001b[0m             \u001b[38;5;124mf\u001b[39m\u001b[38;5;124m\"\u001b[39m\u001b[38;5;132;01m{\u001b[39;00m\u001b[38;5;28mtype\u001b[39m(\u001b[38;5;28mself\u001b[39m)\u001b[38;5;241m.\u001b[39m\u001b[38;5;18m__name__\u001b[39m\u001b[38;5;132;01m}\u001b[39;00m\u001b[38;5;124m.pct_change is deprecated and will be \u001b[39m\u001b[38;5;124m\"\u001b[39m\n\u001b[0;32m   (...)\u001b[0m\n\u001b[1;32m  11707\u001b[0m             stacklevel\u001b[38;5;241m=\u001b[39mfind_stack_level(),\n\u001b[1;32m  11708\u001b[0m         )\n",
      "File \u001b[0;32m~/anaconda3/lib/python3.11/site-packages/numpy/core/fromnumeric.py:1229\u001b[0m, in \u001b[0;36margmax\u001b[0;34m(a, axis, out, keepdims)\u001b[0m\n\u001b[1;32m   1142\u001b[0m \u001b[38;5;250m\u001b[39m\u001b[38;5;124;03m\"\"\"\u001b[39;00m\n\u001b[1;32m   1143\u001b[0m \u001b[38;5;124;03mReturns the indices of the maximum values along an axis.\u001b[39;00m\n\u001b[1;32m   1144\u001b[0m \n\u001b[0;32m   (...)\u001b[0m\n\u001b[1;32m   1226\u001b[0m \u001b[38;5;124;03m(2, 1, 4)\u001b[39;00m\n\u001b[1;32m   1227\u001b[0m \u001b[38;5;124;03m\"\"\"\u001b[39;00m\n\u001b[1;32m   1228\u001b[0m kwds \u001b[38;5;241m=\u001b[39m {\u001b[38;5;124m'\u001b[39m\u001b[38;5;124mkeepdims\u001b[39m\u001b[38;5;124m'\u001b[39m: keepdims} \u001b[38;5;28;01mif\u001b[39;00m keepdims \u001b[38;5;129;01mis\u001b[39;00m \u001b[38;5;129;01mnot\u001b[39;00m np\u001b[38;5;241m.\u001b[39m_NoValue \u001b[38;5;28;01melse\u001b[39;00m {}\n\u001b[0;32m-> 1229\u001b[0m \u001b[38;5;28;01mreturn\u001b[39;00m _wrapfunc(a, \u001b[38;5;124m'\u001b[39m\u001b[38;5;124margmax\u001b[39m\u001b[38;5;124m'\u001b[39m, axis\u001b[38;5;241m=\u001b[39maxis, out\u001b[38;5;241m=\u001b[39mout, \u001b[38;5;241m*\u001b[39m\u001b[38;5;241m*\u001b[39mkwds)\n",
      "File \u001b[0;32m~/anaconda3/lib/python3.11/site-packages/numpy/core/fromnumeric.py:59\u001b[0m, in \u001b[0;36m_wrapfunc\u001b[0;34m(obj, method, *args, **kwds)\u001b[0m\n\u001b[1;32m     56\u001b[0m     \u001b[38;5;28;01mreturn\u001b[39;00m _wrapit(obj, method, \u001b[38;5;241m*\u001b[39margs, \u001b[38;5;241m*\u001b[39m\u001b[38;5;241m*\u001b[39mkwds)\n\u001b[1;32m     58\u001b[0m \u001b[38;5;28;01mtry\u001b[39;00m:\n\u001b[0;32m---> 59\u001b[0m     \u001b[38;5;28;01mreturn\u001b[39;00m bound(\u001b[38;5;241m*\u001b[39margs, \u001b[38;5;241m*\u001b[39m\u001b[38;5;241m*\u001b[39mkwds)\n\u001b[1;32m     60\u001b[0m \u001b[38;5;28;01mexcept\u001b[39;00m \u001b[38;5;167;01mTypeError\u001b[39;00m:\n\u001b[1;32m     61\u001b[0m     \u001b[38;5;66;03m# A TypeError occurs if the object does have such a method in its\u001b[39;00m\n\u001b[1;32m     62\u001b[0m     \u001b[38;5;66;03m# class, but its signature is not identical to that of NumPy's. This\u001b[39;00m\n\u001b[0;32m   (...)\u001b[0m\n\u001b[1;32m     66\u001b[0m     \u001b[38;5;66;03m# Call _wrapit from within the except clause to ensure a potential\u001b[39;00m\n\u001b[1;32m     67\u001b[0m     \u001b[38;5;66;03m# exception has a traceback chain.\u001b[39;00m\n\u001b[1;32m     68\u001b[0m     \u001b[38;5;28;01mreturn\u001b[39;00m _wrapit(obj, method, \u001b[38;5;241m*\u001b[39margs, \u001b[38;5;241m*\u001b[39m\u001b[38;5;241m*\u001b[39mkwds)\n",
      "\u001b[0;31mValueError\u001b[0m: attempt to get argmax of an empty sequence"
     ]
    }
   ],
   "source": [
    "import stock_analysis as sa\n",
    "\n",
    "aligned_next_day_returns, likelihood_increase = sa.analyze_stock_return('GOOGL', '2015-01-01')\n",
    "\n",
    "print(f\"The likelihood of an increase after a -5% drop is: {likelihood_increase:.2%}\")\n",
    "\n",
    "sa.plot_return_series(aligned_next_day_returns)\n"
   ]
  },
  {
   "cell_type": "code",
   "execution_count": null,
   "id": "e1d3b0b6",
   "metadata": {},
   "outputs": [],
   "source": [
    "import stock_analysis as sa\n",
    "\n",
    "aligned_next_day_returns, likelihood_increase = sa.analyze_stock_return('CPS', '2015-01-01')\n",
    "\n",
    "print(f\"The likelihood of an increase after a -5% drop is: {likelihood_increase:.2%}\")\n",
    "\n",
    "sa.plot_return_series(aligned_next_day_returns)\n"
   ]
  },








  {
   "cell_type": "markdown",
   "id": "fa75e535",
   "metadata": {},
   "source": [
    "We see that the probability decreases by 5,25%-points which is a sign that our strategy becomes less efficient when the correlation to the market decreases. In conclusion the strategy is more efficient with larger names, but still profitable.\n",
    "\n",
    "It should be noted that the larger drawdowns and increases are partly driven by the semiconducter shortages. "
   ]
  },
  {
   "cell_type": "markdown",
   "id": "88a3404d-5f97-4592-a14b-3786dcdfcdea",
   "metadata": {},
   "source": [
    "#### Tentative Conclusion: \n",
    "If the highest gainer on the Nasdaq goes up by more than 30%, maybe you should bet on it going down the next day. Odds are pretty good. "
   ]
  },
  {
   "cell_type": "code",
   "execution_count": null,
   "id": "2c6c3580-6e82-452e-9d35-a391ff9c1077",
   "metadata": {},
   "outputs": [],
   "source": []
  }
 ],
 "metadata": {
  "kernelspec": {
   "display_name": "Python 3 (ipykernel)",
   "language": "python",
   "name": "python3"
  },
  "language_info": {
   "codemirror_mode": {
    "name": "ipython",
    "version": 3
   },
   "file_extension": ".py",
   "mimetype": "text/x-python",
   "name": "python",
   "nbconvert_exporter": "python",
   "pygments_lexer": "ipython3",
   "version": "3.11.7"
  }
 },
 "nbformat": 4,
 "nbformat_minor": 5
}
