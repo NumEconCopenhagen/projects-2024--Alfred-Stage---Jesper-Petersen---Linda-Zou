{
 "cells": [
  {
   "cell_type": "code",
   "execution_count": null,
   "id": "14cebaef-6dfd-473b-b76e-fdd4be34d760",
   "metadata": {
    "tags": []
   },
   "outputs": [],
   "source": [
    "from mean_reversion_algo import MeanReversionAlgo\n",
    "%load_ext autoreload\n",
    "%autoreload 2"
   ]
  },
  {
   "cell_type": "markdown",
   "id": "6e3cea24-a912-4e55-b6e1-493e1a68f376",
   "metadata": {},
   "source": [
    "### Trading Algorithm \n",
    "\n",
    "We define our strategy as an intraday mean-reversion. We look for \"biggest loss days\" and \"biggest win days\". \n",
    "We want to probe at an answer to the question: what happened the following day? \n",
    "\n",
    "In so far as yesterday's losers gain today, or vice versa, this should be more actionable. We can always look up who was yesterday's biggest loser. We don't need any further info. Does this alone give us an edge? \n",
    "\n",
    "What if we condition on winners/losers above a certain threshold? What if we condition on the index being overal up/down? Find out! \n",
    "\n",
    "We allow the opportunity to import data from the 1) Dow-Jones index, 2) the Nasdaq and 3) the Nifty50. \n",
    "\n",
    "## How do you use the algorithm? (simple case) \n",
    "index_algo = MeanReversionAlgo(index='dow')\n",
    "index_algo.run()\n",
    "\n",
    "#### Pure plot without conditions\n",
    "index_algo.plot_results()\n",
    "\n",
    "#### Conditional plot based on index performance up\n",
    "index_algo.plot_results(index_condition='up')\n",
    "\n",
    "#### Conditional plot based on winners, up more than 5%, on days when the index was down\n",
    "index_algo.plot_results(index_condition='down', category_condition={'type': 'winner', 'thresholds': (5, None)})\n",
    "\n",
    "#### Conditional correlation winners, up more than 30%, on days when the index was up\n",
    "index_algo.calculate_segmented_correlation(index_condition='up', category_condition={'type': 'winner', 'thresholds': (30, None)})"
   ]
  },
  {
   "cell_type": "markdown",
   "id": "e5148573-615a-41e4-8db7-02f7569b8e16",
   "metadata": {},
   "source": [
    "## Let's look at the Dow in the period from Jan20 up until last week. "
   ]
  },
  {
   "cell_type": "code",
   "execution_count": null,
   "id": "cd36371f-6fa3-4d2b-9233-1413e6eb31f8",
   "metadata": {
    "tags": []
   },
   "outputs": [],
   "source": [
    "dow = MeanReversionAlgo(index='dow', start_date=\"01/01/2020\", end_date=\"22/03/2024\")\n",
    "dow.run()"
   ]
  },
  {
   "cell_type": "markdown",
   "id": "f43148d6-dfb4-4407-9001-f47dd64af9d7",
   "metadata": {
    "tags": []
   },
   "source": [
    "## Let's check out what happens if we control for index-overall, and whether you're a winner/loser"
   ]
  },
  {
   "cell_type": "code",
   "execution_count": null,
   "id": "2c45c59c-2615-4c6e-ac2f-d1b2b0cf4232",
   "metadata": {
    "tags": []
   },
   "outputs": [],
   "source": [
    "dow.plot_results(index_condition='up', category_condition={'type': 'winner', 'thresholds': (5, None)})"
   ]
  },
  {
   "cell_type": "code",
   "execution_count": null,
   "id": "1027b90a-64a2-4e24-b766-5c9fd367cf23",
   "metadata": {
    "tags": []
   },
   "outputs": [],
   "source": [
    "dow.plot_results(index_condition='down', category_condition={'type': 'loser', 'thresholds': (5, None)})"
   ]
  },
  {
   "cell_type": "markdown",
   "id": "107a89fa-a8d6-4ff5-96d2-0ac1eca140c7",
   "metadata": {},
   "source": [
    "## Now let's turn to Nifty 50 "
   ]
  },
  {
   "cell_type": "code",
   "execution_count": null,
   "id": "fe5dc6b8-e798-45eb-93fb-52eb3af7a363",
   "metadata": {
    "tags": []
   },
   "outputs": [],
   "source": [
    "nifty = MeanReversionAlgo(index='nifty50', start_date=\"01/01/2020\", end_date=\"22/03/2024\")\n",
    "nifty.run()"
   ]
  },
  {
   "cell_type": "code",
   "execution_count": null,
   "id": "f44c5347-3541-48ac-99a6-8256d6777fa0",
   "metadata": {
    "tags": []
   },
   "outputs": [],
   "source": [
    "nifty.plot_results(index_condition='down', category_condition={'type': 'loser', 'thresholds': (7, None)})"
   ]
  },
  {
   "cell_type": "markdown",
   "id": "01955df9-d297-440e-a8b8-878f7eaa1701",
   "metadata": {},
   "source": [
    "## Finally, let's do Nasdaq (be warned ... \n",
    "... dataset larger, so this will take a while  "
   ]
  },
  {
   "cell_type": "code",
   "execution_count": null,
   "id": "7429b84c-28cb-4eba-b376-6dc1043180c2",
   "metadata": {
    "tags": []
   },
   "outputs": [],
   "source": [
    "nasdaq = MeanReversionAlgo(index='nasdaq', start_date=\"01/01/2020\", end_date=\"22/03/2024\")\n",
    "nasdaq.run()"
   ]
  },
  {
   "cell_type": "code",
   "execution_count": null,
   "id": "34c8406b-520b-4b92-815d-e0f23dac7a8f",
   "metadata": {},
   "outputs": [],
   "source": [
    "nasdaq.plot_results(index_condition='up', category_condition={'type': 'winner', 'thresholds': (30, None)})"
   ]
  },
  {
   "cell_type": "code",
   "execution_count": null,
   "id": "a25c3ec9-10f8-4022-a146-c571a734634e",
   "metadata": {
    "tags": []
   },
   "outputs": [],
   "source": [
    "nasdaq.calculate_segmented_correlation(index_condition='up', category_condition={'type': 'winner', 'thresholds': (30, None)})"
   ]
  },
  {
   "cell_type": "markdown",
   "id": "e9916cef",
   "metadata": {},
   "source": [
    "Know lets apply this for two individual stocks Alphabet Class A and Cooper-Standard Holdings. The reasoning behind this move is to demonstrate that our theory for the market also can be applied for a higher correlated stock to the stock market (GOOGL) and a less correlated stock (CPS). Note that there is a difference in their volatility, but we disregard this.\n",
    "\n",
    "We will now see what happend the next day after the stocks fell -5% or more, and calculate the likelihood of a next day increase.\n",
    "This can to some degree validate if our strategy works on individual stock names. If the likelihood is greater than 50% for an increase, then there is a probability that our strategy is profitable. "
   ]
  },
  {
   "cell_type": "code",
   "execution_count": null,
   "id": "5035aa9f",
   "metadata": {},
   "outputs": [],
   "source": [
    "import stock_analysis as sa\n",
    "\n",
    "aligned_next_day_returns, likelihood_increase = sa.analyze_stock_return('GOOGL', '2015-01-01')\n",
    "\n",
    "print(f\"The likelihood of an increase after a -5% drop is: {likelihood_increase:.2%}\")\n",
    "sa.plot_return_series(aligned_next_day_returns)\n"
   ]
  },
  {
   "cell_type": "code",
   "execution_count": null,
   "id": "e1d3b0b6",
   "metadata": {},
   "outputs": [],
   "source": [
    "import stock_analysis as sa\n",
    "\n",
    "aligned_next_day_returns, likelihood_increase = sa.analyze_stock_return('CPS', '2015-01-01')\n",
    "\n",
    "print(f\"The likelihood of an increase after a -5% drop is: {likelihood_increase:.2%}\")\n",
    "\n",
    "sa.plot_return_series(aligned_next_day_returns)\n"
   ]
  },
  {
   "cell_type": "markdown",
   "id": "fa75e535",
   "metadata": {},
   "source": [
    "We see that the probability decreases by 5,25%-points which is a sign that our strategy becomes less efficient when the correlation to the market decreases. In conclusion the strategy is more efficient with larger names, but still profitable.\n",
    "\n",
    "It should be noted that the larger drawdowns and increases are partly driven by the semiconducter shortages in relation to CPS. "
   ]
  },
  {
   "cell_type": "markdown",
   "id": "29498a54",
   "metadata": {},
   "source": [
    "Now lets backtest it investing in Alphabet, but control our risk by using the theory of fractional kelly. \n",
    "Little background story: Kelly Fractional is often used in black jack but can be used to manage risk in the stock market. The point of it is that each time our strategy results in a profit, the next investment will be more aggressive. On the other hand when a trade results in a loss it lowers the next trade. \n",
    "\n",
    "Our criteria:\n",
    "Initial capital: 100.000 \n",
    "Initial position size: 1%\n",
    "Maximum position size: 5%\n",
    "Kelly Fractional: 50%"
   ]
  },
  {
   "cell_type": "code",
   "execution_count": 4,
   "id": "f6ff3198",
   "metadata": {},
   "outputs": [
    {
     "name": "stderr",
     "output_type": "stream",
     "text": [
      "[*********************100%%**********************]  1 of 1 completed\n"
     ]
    },
    {
     "data": {
      "image/png": "[encoded data removed]",
      "text/plain": [
       "<Figure size 1400x700 with 1 Axes>"
      ]
     },
     "metadata": {},
     "output_type": "display_data"
    }
   ],
   "source": [
    "\n",
    "import matplotlib.pyplot as plt\n",
    "import stock_analysis as sa\n",
    "from stock_analysis import backtest_kelly_strategy\n",
    "import yfinance as yf\n",
    "import pandas as pd\n",
    "\n",
    "stock_ticker = 'GOOGL'\n",
    "start_date = '2015-01-01'\n",
    "googl = yf.download(stock_ticker, start=start_date)\n",
    "\n",
    "googl['Daily Return'] = googl['Adj Close'].pct_change()\n",
    "\n",
    "googl['Trading Signal'] = googl['Daily Return'] <= -0.05\n",
    "\n",
    "googl['Next Day Return'] = googl['Daily Return'].shift(-1)\n",
    "\n",
    "# Run the backtest using half-Kelly\n",
    "initial_capital = 100000  # Starting with $100,000\n",
    "max_risk = 0.05  # Maximum risk is 5% of the portfolio\n",
    "risk_per_trade = 0.01  # Starting with risking 1% per trade\n",
    "kelly_fractional = 0.5  # Using half-Kelly\n",
    "portfolio_values = backtest_kelly_strategy(googl, initial_capital, max_risk, risk_per_trade, kelly_fractional)\n",
    "\n",
    "plt.figure(figsize=(14, 7))\n",
    "plt.plot(portfolio_values, label='Portfolio Value')\n",
    "plt.axhline(initial_capital, color='red', linestyle='--', label='Initial Capital')\n",
    "plt.title(\"Portfolio Performance Using Kelly Criterion\")\n",
    "plt.xlabel(\"Number of Trades\")\n",
    "plt.ylabel(\"Portfolio Value\")\n",
    "plt.legend()\n",
    "plt.grid(True)\n",
    "plt.show()\n"
   ]
  },
  {
   "cell_type": "markdown",
   "id": "1f4e3791",
   "metadata": {},
   "source": [
    "It seems that the strategy is profitable"
   ]
  },
  {
   "cell_type": "markdown",
   "id": "88a3404d-5f97-4592-a14b-3786dcdfcdea",
   "metadata": {},
   "source": [
    "#### Tentative Conclusion: \n",
    "If the highest gainer on the Nasdaq goes up by more than 30%, maybe you should bet on it going down the next day. Odds are pretty good. "
   ]
  }
 ],
 "metadata": {
  "kernelspec": {
   "display_name": "Python 3 (ipykernel)",
   "language": "python",
   "name": "python3"
  },
  "language_info": {
   "codemirror_mode": {
    "name": "ipython",
    "version": 3
   },
   "file_extension": ".py",
   "mimetype": "text/x-python",
   "name": "python",
   "nbconvert_exporter": "python",
   "pygments_lexer": "ipython3",
   "version": "3.11.7"
  }
 },
 "nbformat": 4,
 "nbformat_minor": 5
}
