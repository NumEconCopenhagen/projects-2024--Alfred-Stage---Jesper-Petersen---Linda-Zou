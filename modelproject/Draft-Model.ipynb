{
 "cells": [
  {
   "cell_type": "code",
   "execution_count": 78,
   "id": "5d43192c-dc1f-44d8-bdd1-b4d2d9734694",
   "metadata": {},
   "outputs": [],
   "source": [
    "import numpy as np\n",
    "import matplotlib.pyplot as plt\n",
    "from scipy import optimize\n",
    "import sympy as sp\n",
    "from IPython.display import display"
   ]
  },
  {
   "cell_type": "markdown",
   "id": "b8ab8222-fd3b-4d75-a793-85597dfcaa7d",
   "metadata": {},
   "source": [
    "# Model Project - The Small Open Economy\n",
    "\n",
    "Set-up is as follows: GDP, the national identity, is defined as the sum of consumption, investment and net-exports:\n",
    "$$Y = C + I + NX$$   \n",
    "GNI adds to this rental income from foreign capital:\n",
    "$$Y + rF =  C + I + NX + rF$$    \n",
    "Savings are Gross National Income minus consumption: \n",
    "$$S_t = Y_t + rF_t - C_t$$\n",
    "Savings help accumulate capital - either domestically, or abroad: \n",
    "$$S_t = I_t + F_{t+1} - F_t$$\n",
    "Capital evolves as per usual (at first simplified by assuming zero depreciation ... assumption later relaxed):\n",
    "$$K_{t+1} = I_t + K_t$$\n",
    "Combining terms we see that:\n",
    "$$K_{t+1} = S_t - F_{t+1} + F_t + K_t ↔ K_{t+1} + F_{t+1} = S_t + F_t + K_t$$\n",
    "Wealth can be domestically owned, or foreign:\n",
    "$$V_t = K_t + F_t$$\n",
    "This means that wealth tomorrow is:\n",
    "$$V_{t+1} = V_t + S_t$$\n",
    "$S_t = s (Y_t + rF_t)$, where saving, s, is a fraction of income set between 0 and 1.  Our production function is initially defined as CD (we'll show other variants later) $Y_t = AK_t^{\\alpha} L_t^{1-\\alpha}$. Markets are competitive. $r=r^w$ at all times. This implies a constant level of capital (barring changes to $\\alpha$ or A). \n",
    "$MP_K$ = $f'k$ = rental rate of capital. Thus, $f'k = \\alpha A K_t^{\\alpha -1} L_t^{1-\\alpha}$, $r^w = \\alpha A k_t^{\\alpha - 1}$, and $\\bar{k} = \\left(\\frac{r^w}{\\alpha A}\\right)^{\\frac{1}{\\alpha-1}}$. Wages are constant by the same reasoning. $MP_L$ = $f'l$ = $\\bar{w}$ = $(1-{\\alpha})$ $\\frac{Y}{L}$ = $(1-{\\alpha})A \\bar{k}^{\\alpha}$. Total returns to scale tell us that $Y_t = rK_t + wL_t$. \n",
    "\n",
    "We use sympy to derive the law of motion for wealth and then proceed to the numerical analysis the assignment asks for. \n",
    "\n",
    "Equations come from: https://web.econ.ku.dk/dalgaard/makro2_2008/Slides/lecture4_cm.pdf"
   ]
  },
  {
   "cell_type": "code",
   "execution_count": 80,
   "id": "e052060a-59a6-4ee2-a7b3-8761f4590e41",
   "metadata": {},
   "outputs": [
    {
     "data": {
      "text/latex": [
       "$\\displaystyle \\frac{L_{t} s w + V_{t} \\left(r s + 1\\right) + V_{t}}{L_{t} \\left(n + 1\\right)}$"
      ],
      "text/plain": [
       "(L_t*s*w + V_t*(r*s + 1) + V_t)/(L_t*(n + 1))"
      ]
     },
     "execution_count": 80,
     "metadata": {},
     "output_type": "execute_result"
    }
   ],
   "source": [
    "# Defining the necessary symbols\n",
    "Y_t, C_t, I_t, r, rw, F_t, K_t, S, s, V, V1, L_t, w, n, L_t1, v_t = sp.symbols(\n",
    "    'Y_t C_t I_t r r^w F_t K_t S s V_t V_{t+1} L_t w n L_{t+1} v_t'\n",
    ")\n",
    "\n",
    "# Equation setup\n",
    "Y = w * L_t + r * K_t         # Production function\n",
    "GNI = Y + r * F_t               # Gross National Income\n",
    "S = s * GNI                     # Savings\n",
    "V = K_t + F_t                   # Wealth at time t\n",
    "V1 = S + V                      # Wealth at time t+1\n",
    "\n",
    "# Expand all expressions \n",
    "V1_expanded = V1.expand()\n",
    "\n",
    "# Substitute V_t for K_t + F_t in the expanded V1\n",
    "V1_substituted = V1_expanded.subs({K_t + F_t: V_t})\n",
    "\n",
    "# Collect terms to consolidate expressions around V_t\n",
    "V1_collected = sp.collect(V1_substituted, V_t)\n",
    "\n",
    "# Explicitly factor out (1 + r * s) from the terms involving V_t\n",
    "V1_intermed = V1_collected.subs(r * s * K_t + r * s * F_t, (r * s + 1) * V_t).simplify()\n",
    "\n",
    "# Define L_t+1 \n",
    "L_1 = L_t * (1 + n)\n",
    "\n",
    "# Define per capita wealth today and tomorrow \n",
    "v_t = V_t / L_t\n",
    "v_1 = V1_intermed / L_1\n",
    "\n",
    "# This gives us the Law of Motion for Wealth (LoM)\n",
    "LoM = v_1.subs(r * s * K_t + r * s * F_t, (r * s + 1) * V_t).simplify()\n",
    "\n",
    "LoM"
   ]
  },
  {
   "cell_type": "markdown",
   "id": "c9601da7-e8d0-4684-bb86-6240b64a0fbb",
   "metadata": {},
   "source": [
    "We divide this thru by $L_t$ to arrive at: $v_{t+1} = \\frac{sw}{1+n}+\\frac{1+sr}{1+n}v_t$\n",
    "\n",
    "In the Steady State, $v_{t+1}=v_t=v^*$"
   ]
  },
  {
   "cell_type": "code",
   "execution_count": 82,
   "id": "17174775-cc68-4537-9f6c-afb0d84a815e",
   "metadata": {},
   "outputs": [
    {
     "data": {
      "text/plain": [
       "[s*w/(n - r*s)]"
      ]
     },
     "execution_count": 82,
     "metadata": {},
     "output_type": "execute_result"
    }
   ],
   "source": [
    "s, w, r, n, v = sp.symbols('s w r n v')\n",
    "SteadyState = sp.Eq((s * w) / (1 + n) + ((1 + s * r) / (1 + n)) * v, v)\n",
    "vstar = sp.solve(SteadyState, v)\n",
    "vstar"
   ]
  },
  {
   "cell_type": "markdown",
   "id": "5e360209-f23d-47ba-a8e7-1ae9127ced6a",
   "metadata": {},
   "source": [
    "## Numerical Analysis \n",
    "\n",
    "### Ideas:\n",
    "Set up model as a class \n",
    "- show effects of different production functions (Cobb Douglas, CES .. )\n",
    "- show effects of Technology shock\n",
    "- plot response curve to shocks / changes in saving etc.\n",
    "\n",
    "- Simulate to get an idea of length of transition period to Steady State\n",
    "- Draw phase diagrame "
   ]
  },
  {
   "cell_type": "code",
   "execution_count": null,
   "id": "d14853af-b991-4061-8a9b-91a17ae9d146",
   "metadata": {},
   "outputs": [],
   "source": []
  }
 ],
 "metadata": {
  "kernelspec": {
   "display_name": "Python 3 (ipykernel)",
   "language": "python",
   "name": "python3"
  },
  "language_info": {
   "codemirror_mode": {
    "name": "ipython",
    "version": 3
   },
   "file_extension": ".py",
   "mimetype": "text/x-python",
   "name": "python",
   "nbconvert_exporter": "python",
   "pygments_lexer": "ipython3",
   "version": "3.11.7"
  }
 },
 "nbformat": 4,
 "nbformat_minor": 5
}
