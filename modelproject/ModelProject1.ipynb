{
 "cells": [
  {
   "cell_type": "code",
   "execution_count": 1,
   "id": "5d43192c-dc1f-44d8-bdd1-b4d2d9734694",
   "metadata": {},
   "outputs": [],
   "source": [
    "import numpy as np\n",
    "import matplotlib.pyplot as plt\n",
    "from scipy import optimize\n",
    "from ipywidgets import interact, FloatSlider, IntSlider\n",
    "from types import SimpleNamespace\n",
    "import sympy as sp\n",
    "from IPython.display import display\n",
    "from OpenEconomy1 import OpenEconomy"
   ]
  },
  {
   "cell_type": "markdown",
   "id": "b8ab8222-fd3b-4d75-a793-85597dfcaa7d",
   "metadata": {},
   "source": [
    "# Model Project - The Small Open Economy\n",
    "\n",
    "Set-up is as follows: GDP, the national identity, is defined as the sum of consumption, investment and net-exports:\n",
    "$$Y = C + I + NX$$   \n",
    "GNI adds to this rental income from foreign capital:\n",
    "$$Y + rF =  C + I + NX + rF$$    \n",
    "Savings are Gross National Income minus consumption: \n",
    "$$S_t = Y_t + rF_t - C_t$$\n",
    "Savings help accumulate capital - either domestically, or abroad: \n",
    "$$S_t = I_t + F_{t+1} - F_t$$\n",
    "Capital evolves as per usual (at first simplified by assuming zero depreciation ... assumption later relaxed):\n",
    "$$K_{t+1} = I_t + K_t$$\n",
    "Combining terms we see that:\n",
    "$$K_{t+1} = S_t - F_{t+1} + F_t + K_t ↔ K_{t+1} + F_{t+1} = S_t + F_t + K_t$$\n",
    "Wealth can be domestically owned, or foreign:\n",
    "$$V_t = K_t + F_t$$\n",
    "This means that wealth tomorrow is:\n",
    "$$V_{t+1} = V_t + S_t$$\n",
    "$S_t = s (Y_t + rF_t)$, where saving, s, is a fraction of income set between 0 and 1.  Our production function is initially defined as CD (we'll show other variants later) $Y_t = AK_t^{\\alpha} L_t^{1-\\alpha}$. Markets are competitive. $r=r^w$ at all times. This implies a constant level of capital (barring changes to $\\alpha$ or A). \n",
    "$MP_K$ = $f'k$ = rental rate of capital. Thus, $f'k = \\alpha A K_t^{\\alpha -1} L_t^{1-\\alpha}$, $r^w = \\alpha A k_t^{\\alpha - 1}$, and $\\bar{k} = \\left(\\frac{r^w}{\\alpha A}\\right)^{\\frac{1}{\\alpha-1}}$. Wages are constant by the same reasoning. $MP_L$ = $f'l$ = $\\bar{w}$ = $(1-{\\alpha})$ $\\frac{Y}{L}$ = $(1-{\\alpha})A \\bar{k}^{\\alpha}$. Total returns to scale tell us that $Y_t = rK_t + wL_t$. \n",
    "\n",
    "We use sympy to derive the law of motion for wealth and then proceed to the numerical analysis the assignment asks for. \n",
    "\n",
    "Equations come from: https://web.econ.ku.dk/dalgaard/makro2_2008/Slides/lecture4_cm.pdf"
   ]
  },
  {
   "cell_type": "code",
   "execution_count": 2,
   "id": "e052060a-59a6-4ee2-a7b3-8761f4590e41",
   "metadata": {},
   "outputs": [
    {
     "data": {
      "text/latex": [
       "$\\displaystyle \\frac{L_{t} s w + V_{t} \\left(r s + 1\\right) + V_{t}}{L_{t} \\left(n + 1\\right)}$"
      ],
      "text/plain": [
       "(L_t*s*w + V_t*(r*s + 1) + V_t)/(L_t*(n + 1))"
      ]
     },
     "execution_count": 2,
     "metadata": {},
     "output_type": "execute_result"
    }
   ],
   "source": [
    "# Defining the necessary symbols\n",
    "Y_t, C_t, I_t, r, rw, F_t, K_t, S, s, V_t, V1, L_t, w, n, L_t1, v_t = sp.symbols(\n",
    "    'Y_t C_t I_t r r^w F_t K_t S s V_t V_{t+1} L_t w n L_{t+1} v_t'\n",
    ")\n",
    "\n",
    "# Equation setup\n",
    "Y = w * L_t + r * K_t         # Production function\n",
    "GNI = Y + r * F_t               # Gross National Income\n",
    "S = s * GNI                     # Savings\n",
    "V = K_t + F_t                   # Wealth at time t\n",
    "V1 = S + V                      # Wealth at time t+1\n",
    "\n",
    "# Expand all expressions \n",
    "V1_expanded = V1.expand()\n",
    "\n",
    "# Substitute V_t for K_t + F_t in the expanded V1\n",
    "V1_substituted = V1_expanded.subs({K_t + F_t: V_t})\n",
    "\n",
    "# Collect terms to consolidate expressions around V_t\n",
    "V1_collected = sp.collect(V1_substituted, V_t)\n",
    "\n",
    "# Explicitly factor out (1 + r * s) from the terms involving V_t\n",
    "V1_intermed = V1_collected.subs(r * s * K_t + r * s * F_t, (r * s + 1) * V_t).simplify()\n",
    "\n",
    "# Define L_t+1 \n",
    "L_1 = L_t * (1 + n)\n",
    "\n",
    "# Define per capita wealth today and tomorrow \n",
    "v_t = V_t / L_t\n",
    "v_1 = V1_intermed / L_1\n",
    "\n",
    "# This gives us the Law of Motion for Wealth (LoM)\n",
    "LoM = v_1.subs(r * s * K_t + r * s * F_t, (r * s + 1) * V_t).simplify()\n",
    "\n",
    "LoM"
   ]
  },
  {
   "cell_type": "markdown",
   "id": "c9601da7-e8d0-4684-bb86-6240b64a0fbb",
   "metadata": {},
   "source": [
    "We divide this thru by $L_t$ to arrive at: $v_{t+1} = \\frac{sw}{1+n}+\\frac{1+sr}{1+n}v_t$\n",
    "\n",
    "In the Steady State, $v_{t+1}=v_t=v^*$"
   ]
  },
  {
   "cell_type": "code",
   "execution_count": 3,
   "id": "17174775-cc68-4537-9f6c-afb0d84a815e",
   "metadata": {},
   "outputs": [
    {
     "data": {
      "text/plain": [
       "[s*w/(n - r*s)]"
      ]
     },
     "execution_count": 3,
     "metadata": {},
     "output_type": "execute_result"
    }
   ],
   "source": [
    "s, w, r, n, v = sp.symbols('s w r n v')\n",
    "SteadyState = sp.Eq((s * w) / (1 + n) + ((1 + s * r) / (1 + n)) * v, v)\n",
    "vstar = sp.solve(SteadyState, v)\n",
    "vstar"
   ]
  },
  {
   "cell_type": "markdown",
   "id": "5e360209-f23d-47ba-a8e7-1ae9127ced6a",
   "metadata": {},
   "source": [
    "## Numerical Analysis \n",
    "\n",
    "\n"
   ]
  },
  {
   "cell_type": "markdown",
   "id": "1a000e57",
   "metadata": {},
   "source": [
    "### Phase Diagram"
   ]
  },
  {
   "cell_type": "markdown",
   "id": "49d3937d",
   "metadata": {},
   "source": [
    "**Use sliders to see reaction to changes in parameters**"
   ]
  },
  {
   "cell_type": "code",
   "execution_count": 4,
   "id": "9b2899d0-ac44-4146-b4e1-35151aa8f008",
   "metadata": {},
   "outputs": [
    {
     "data": {
      "application/vnd.jupyter.widget-view+json": {
       "model_id": "5e55f4e350a94f34806ce3248d193b2b",
       "version_major": 2,
       "version_minor": 0
      },
      "text/plain": [
       "interactive(children=(FloatSlider(value=0.2, description='Savings Rate (s)', max=1.0, step=0.01), FloatSlider(…"
      ]
     },
     "metadata": {},
     "output_type": "display_data"
    },
    {
     "data": {
      "text/plain": [
       "<function ipywidgets.widgets.interaction._InteractFactory.__call__.<locals>.<lambda>(*args, **kwargs)>"
      ]
     },
     "execution_count": 4,
     "metadata": {},
     "output_type": "execute_result"
    }
   ],
   "source": [
    "model = OpenEconomy()\n",
    "\n",
    "interact(model.phase_diagram,\n",
    "         s=FloatSlider(min=0, max=1, step=0.01, value=model.s, description='Savings Rate (s)'),\n",
    "         n=FloatSlider(min=0, max=0.1, step=0.001, value=model.n, description='Population Growth Rate (n)'),\n",
    "         alpha=FloatSlider(min=0, max=1, step=0.01, value=model.alpha, description='Output Elasticity of Capital (alpha)'),\n",
    "         A=FloatSlider(min=0.5, max=5, step=0.1, value=model.A, description='Technology Parameter (A)'),\n",
    "         delta=FloatSlider(min=0, max=0.1, step=0.01, value=model.delta, description='Depreciation Rate (delta)'))\n"
   ]
  },
  {
   "cell_type": "markdown",
   "id": "9a9a0e1e-8d63-4787-a3ab-9d21e480f287",
   "metadata": {},
   "source": [
    "# Underlying variables\n",
    "\n",
    "**Change parameters to see reaction and change \"shock\" in order to determine which period**"
   ]
  },
  {
   "cell_type": "code",
   "execution_count": 5,
   "id": "64c0352c-39ae-4a56-9b93-511bea92b401",
   "metadata": {},
   "outputs": [
    {
     "data": {
      "application/vnd.jupyter.widget-view+json": {
       "model_id": "b040ef5f47e9469f900f3182e3a65870",
       "version_major": 2,
       "version_minor": 0
      },
      "text/plain": [
       "interactive(children=(IntSlider(value=100, description='Periods', max=500, min=50, step=50), IntSlider(value=0…"
      ]
     },
     "metadata": {},
     "output_type": "display_data"
    },
    {
     "data": {
      "text/plain": [
       "<function ipywidgets.widgets.interaction._InteractFactory.__call__.<locals>.<lambda>(*args, **kwargs)>"
      ]
     },
     "execution_count": 5,
     "metadata": {},
     "output_type": "execute_result"
    }
   ],
   "source": [
    "interact(model.underlying_variables,\n",
    "         periods=IntSlider(min=50, max=500, step=50, value=100, description='Periods'),\n",
    "         shock=IntSlider(min=0, max=99, step=1, value=None, description='Shock Time', style={'description_width': 'initial'}),\n",
    "         s=FloatSlider(min=0.0, max=1.0, step=0.01, value=model.s, description='Savings Rate (s)'),\n",
    "         n=FloatSlider(min=0.0, max=0.1, step=0.001, value=model.n, description='Population Growth Rate (n)'),\n",
    "         alpha=FloatSlider(min=0.0, max=1.0, step=0.01, value=model.alpha, description='Output Elasticity of Capital (alpha)'),\n",
    "         A=FloatSlider(min=0.5, max=5.0, step=0.1, value=model.A, description='Technology Parameter (A)'),\n",
    "         delta=FloatSlider(min=0.0, max=0.1, step=0.01, value=model.delta, description='Depreciation Rate (delta)'))"
   ]
  },
  {
   "cell_type": "markdown",
   "id": "604b5e83-a4b9-4893-8190-1f2291f6b503",
   "metadata": {},
   "source": [
    "## Convergence to Steady State"
   ]
  },
  {
   "cell_type": "code",
   "execution_count": 6,
   "id": "8d9913e9-67cc-4a55-9850-aa3e41f0e204",
   "metadata": {},
   "outputs": [
    {
     "data": {
      "application/vnd.jupyter.widget-view+json": {
       "model_id": "2aa62df0f9de48009db3ae6af88b5a59",
       "version_major": 2,
       "version_minor": 0
      },
      "text/plain": [
       "interactive(children=(IntSlider(value=100, description='Periods', max=500, min=50, step=50), IntSlider(value=0…"
      ]
     },
     "metadata": {},
     "output_type": "display_data"
    },
    {
     "data": {
      "text/plain": [
       "<function ipywidgets.widgets.interaction._InteractFactory.__call__.<locals>.<lambda>(*args, **kwargs)>"
      ]
     },
     "execution_count": 6,
     "metadata": {},
     "output_type": "execute_result"
    }
   ],
   "source": [
    "model.reset() \n",
    "\n",
    "\n",
    "interact(model.convergence_ss,\n",
    "         periods=IntSlider(min=50, max=500, step=50, value=100, description='Periods'),\n",
    "         shock=IntSlider(min=0, max=100, step=1, value=None, description='Shock Time', style={'description_width': 'initial'}),\n",
    "         s=FloatSlider(min=0, max=1, step=0.01, value=model.s, description='Savings Rate (s)'),\n",
    "         n=FloatSlider(min=0, max=0.1, step=0.001, value=model.n, description='Population Growth Rate (n)'),\n",
    "         alpha=FloatSlider(min=0, max=1, step=0.01, value=model.alpha, description='Output Elasticity of Capital (alpha)'),\n",
    "         A=FloatSlider(min=0.5, max=5, step=0.1, value=model.A, description='Technology Parameter (A)'),\n",
    "         delta=FloatSlider(min=0, max=0.1, step=0.01, value=model.delta, description='Depreciation Rate (delta)'))"
   ]
  },
  {
   "cell_type": "markdown",
   "id": "c68ec46b",
   "metadata": {},
   "source": [
    "# Introducing shocks from Netto Export\n",
    "\n",
    "The shock from nettoexport in this model is determind by competitiveness of exhange rates which is affected by the differences in interest rates and inflation rates"
   ]
  },
  {
   "cell_type": "code",
   "execution_count": 7,
   "id": "d44435e1",
   "metadata": {},
   "outputs": [
    {
     "data": {
      "application/vnd.jupyter.widget-view+json": {
       "model_id": "0afc035b7aa74f36a553fa5121b4c8fa",
       "version_major": 2,
       "version_minor": 0
      },
      "text/plain": [
       "interactive(children=(FloatSlider(value=0.3, description='Alpha (Output Elasticity)', max=0.9, min=0.1, step=0…"
      ]
     },
     "metadata": {},
     "output_type": "display_data"
    },
    {
     "data": {
      "text/plain": [
       "<function ipywidgets.widgets.interaction._InteractFactory.__call__.<locals>.<lambda>(*args, **kwargs)>"
      ]
     },
     "execution_count": 7,
     "metadata": {},
     "output_type": "execute_result"
    }
   ],
   "source": [
    "from OpenEconomy2 import OpenEconomyNX\n",
    "from ipywidgets import interact, IntSlider, FloatSlider\n",
    "\n",
    "model = OpenEconomyNX()\n",
    "\n",
    "\n",
    "interact(model.nx_phase_diagram,\n",
    "         alpha=FloatSlider(min=0.1, max=0.9, step=0.05, value=model.alpha, description='Alpha (Output Elasticity)'),\n",
    "         n=FloatSlider(min=0.01, max=0.05, step=0.005, value=model.n, description='n (Population Growth Rate)'),\n",
    "         s=FloatSlider(min=0.1, max=0.4, step=0.05, value=model.s, description='s (Savings Rate)'),\n",
    "         r=FloatSlider(min=0.01, max=0.05, step=0.005, value=model.r, description='r (Interest Rate)'),\n",
    "         foreign_inflation_rate=FloatSlider(min=0.0, max=0.05, step=0.005, value=model.foreign_inflation_rate, description='Foreign Inflation Rate'),\n",
    "         domestic_inflation_rate=FloatSlider(min=0.0, max=0.05, step=0.005, value=model.domestic_inflation_rate, description='Domestic Inflation Rate'),\n",
    "         delta=FloatSlider(min=0.01, max=0.1, step=0.01, value=model.delta, description='Delta (Depreciation Rate)'))\n"
   ]
  },
  {
   "cell_type": "code",
   "execution_count": 8,
   "id": "9e265466",
   "metadata": {},
   "outputs": [
    {
     "data": {
      "application/vnd.jupyter.widget-view+json": {
       "model_id": "f680f15927ea48aea1ca0dd6568f2405",
       "version_major": 2,
       "version_minor": 0
      },
      "text/plain": [
       "interactive(children=(IntSlider(value=100, description='Periods', max=500, min=50, step=10), IntSlider(value=0…"
      ]
     },
     "metadata": {},
     "output_type": "display_data"
    },
    {
     "data": {
      "text/plain": [
       "<function ipywidgets.widgets.interaction._InteractFactory.__call__.<locals>.<lambda>(*args, **kwargs)>"
      ]
     },
     "execution_count": 8,
     "metadata": {},
     "output_type": "execute_result"
    }
   ],
   "source": [
    "from OpenEconomy2 import OpenEconomyNX\n",
    "from ipywidgets import interact, IntSlider, FloatSlider\n",
    "\n",
    "model = OpenEconomyNX()\n",
    "\n",
    "\n",
    "interact(model.nx_underlying_variables,\n",
    "         periods=IntSlider(min=50, max=500, step=10, value=100, description='Periods'),\n",
    "         shock=IntSlider(min=0, max=100, step=1, value=0, description='Shock Time'),\n",
    "         alpha=FloatSlider(min=0.1, max=0.9, step=0.01, value=model.alpha, description='Alpha'),\n",
    "         n=FloatSlider(min=0, max=0.1, step=0.01, value=model.n, description='Population Growth (n)'),\n",
    "         s=FloatSlider(min=0.1, max=0.4, step=0.01, value=model.s, description='Savings Rate (s)'),\n",
    "         r=FloatSlider(min=0.01, max=0.1, step=0.01, value=model.r, description='Interest Rate (r)'),\n",
    "         A=FloatSlider(min=0.5, max=2.0, step=0.1, value=model.A, description='Technology Factor (A)'),\n",
    "         delta=FloatSlider(min=0.01, max=0.1, step=0.01, value=model.delta, description='Depreciation Rate (delta)'),\n",
    "         foreign_inflation_rate=FloatSlider(min=0, max=0.1, step=0.01, value=model.foreign_inflation_rate, description='Foreign Inflation Rate'),\n",
    "         domestic_inflation_rate=FloatSlider(min=0, max=0.1, step=0.01, value=model.domestic_inflation_rate, description='Domestic Inflation Rate'))"
   ]
  }
 ],
 "metadata": {
  "kernelspec": {
   "display_name": "Python 3 (ipykernel)",
   "language": "python",
   "name": "python3"
  },
  "language_info": {
   "codemirror_mode": {
    "name": "ipython",
    "version": 3
   },
   "file_extension": ".py",
   "mimetype": "text/x-python",
   "name": "python",
   "nbconvert_exporter": "python",
   "pygments_lexer": "ipython3",
   "version": "3.11.7"
  }
 },
 "nbformat": 4,
 "nbformat_minor": 5
}
