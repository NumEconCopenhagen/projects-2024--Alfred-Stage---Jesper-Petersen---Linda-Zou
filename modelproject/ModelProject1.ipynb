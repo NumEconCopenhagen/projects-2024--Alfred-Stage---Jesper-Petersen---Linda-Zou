{
 "cells": [
  {
   "cell_type": "code",
   "execution_count": null,
   "id": "5d43192c-dc1f-44d8-bdd1-b4d2d9734694",
   "metadata": {},
   "outputs": [],
   "source": [
    "import numpy as np\n",
    "import matplotlib.pyplot as plt\n",
    "from scipy import optimize\n",
    "from ipywidgets import interact, FloatSlider, IntSlider\n",
    "from types import SimpleNamespace\n",
    "import sympy as sp\n",
    "from IPython.display import display\n",
    "from OpenEconomy1 import OpenEconomy"
   ]
  },
  {
   "cell_type": "markdown",
   "id": "b8ab8222-fd3b-4d75-a793-85597dfcaa7d",
   "metadata": {},
   "source": [
    "# Model Project - The Small Open Economy\n",
    "\n",
    "Set-up is as follows: GDP, the national identity, is defined as the sum of consumption, investment and net-exports:\n",
    "$$Y = C + I + NX$$   \n",
    "GNI adds to this rental income from foreign capital:\n",
    "$$Y + rF =  C + I + NX + rF$$    \n",
    "Savings are Gross National Income minus consumption: \n",
    "$$S_t = Y_t + rF_t - C_t$$\n",
    "Savings help accumulate capital - either domestically, or abroad: \n",
    "$$S_t = I_t + F_{t+1} - F_t$$\n",
    "Capital evolves as per usual (at first simplified by assuming zero depreciation ... assumption later relaxed):\n",
    "$$K_{t+1} = I_t + K_t$$\n",
    "Combining terms we see that:\n",
    "$$K_{t+1} = S_t - F_{t+1} + F_t + K_t ↔ K_{t+1} + F_{t+1} = S_t + F_t + K_t$$\n",
    "Wealth can be domestically owned, or foreign:\n",
    "$$V_t = K_t + F_t$$\n",
    "This means that wealth tomorrow is:\n",
    "$$V_{t+1} = V_t + S_t$$\n",
    "$S_t = s (Y_t + rF_t)$, where saving, s, is a fraction of income set between 0 and 1.  Our production function is initially defined as CD (we'll show other variants later) $Y_t = AK_t^{\\alpha} L_t^{1-\\alpha}$. Markets are competitive. $r=r^w$ at all times. This implies a constant level of capital (barring changes to $\\alpha$ or A). \n",
    "$MP_K$ = $f'k$ = rental rate of capital. Thus, $f'k = \\alpha A K_t^{\\alpha -1} L_t^{1-\\alpha}$, $r^w = \\alpha A k_t^{\\alpha - 1}$, and $\\bar{k} = \\left(\\frac{r^w}{\\alpha A}\\right)^{\\frac{1}{\\alpha-1}}$. Wages are constant by the same reasoning. $MP_L$ = $f'l$ = $\\bar{w}$ = $(1-{\\alpha})$ $\\frac{Y}{L}$ = $(1-{\\alpha})A \\bar{k}^{\\alpha}$. Total returns to scale tell us that $Y_t = rK_t + wL_t$. \n",
    "\n",
    "We use sympy to derive the law of motion for wealth and then proceed to the numerical analysis the assignment asks for. \n",
    "\n",
    "Equations come from: https://web.econ.ku.dk/dalgaard/makro2_2008/Slides/lecture4_cm.pdf"
   ]
  },
  {
   "cell_type": "code",
   "execution_count": null,
   "id": "e052060a-59a6-4ee2-a7b3-8761f4590e41",
   "metadata": {},
   "outputs": [],
   "source": [
    "# Defining the necessary symbols\n",
    "Y_t, C_t, I_t, r, rw, F_t, K_t, S, s, V_t, V1, L_t, w, n, L_t1, v_t = sp.symbols(\n",
    "    'Y_t C_t I_t r r^w F_t K_t S s V_t V_{t+1} L_t w n L_{t+1} v_t'\n",
    ")\n",
    "\n",
    "# Equation setup\n",
    "Y = w * L_t + r * K_t         # Production function\n",
    "GNI = Y + r * F_t               # Gross National Income\n",
    "S = s * GNI                     # Savings\n",
    "V = K_t + F_t                   # Wealth at time t\n",
    "V1 = S + V                      # Wealth at time t+1\n",
    "\n",
    "# Expand all expressions \n",
    "V1_expanded = V1.expand()\n",
    "\n",
    "# Substitute V_t for K_t + F_t in the expanded V1\n",
    "V1_substituted = V1_expanded.subs({K_t + F_t: V_t})\n",
    "\n",
    "# Collect terms to consolidate expressions around V_t\n",
    "V1_collected = sp.collect(V1_substituted, V_t)\n",
    "\n",
    "# Explicitly factor out (1 + r * s) from the terms involving V_t\n",
    "V1_intermed = V1_collected.subs(r * s * K_t + r * s * F_t, (r * s + 1) * V_t).simplify()\n",
    "\n",
    "# Define L_t+1 \n",
    "L_1 = L_t * (1 + n)\n",
    "\n",
    "# Define per capita wealth today and tomorrow \n",
    "v_t = V_t / L_t\n",
    "v_1 = V1_intermed / L_1\n",
    "\n",
    "# This gives us the Law of Motion for Wealth (LoM)\n",
    "LoM = v_1.subs(r * s * K_t + r * s * F_t, (r * s + 1) * V_t).simplify()\n",
    "\n",
    "LoM"
   ]
  },
  {
   "cell_type": "markdown",
   "id": "c9601da7-e8d0-4684-bb86-6240b64a0fbb",
   "metadata": {},
   "source": [
    "We divide this thru by $L_t$ to arrive at: $v_{t+1} = \\frac{sw}{1+n}+\\frac{1+sr}{1+n}v_t$\n",
    "\n",
    "In the Steady State, $v_{t+1}=v_t=v^*$"
   ]
  },
  {
   "cell_type": "code",
   "execution_count": null,
   "id": "17174775-cc68-4537-9f6c-afb0d84a815e",
   "metadata": {},
   "outputs": [],
   "source": [
    "s, w, r, n, v = sp.symbols('s w r n v')\n",
    "SteadyState = sp.Eq((s * w) / (1 + n) + ((1 + s * r) / (1 + n)) * v, v)\n",
    "vstar = sp.solve(SteadyState, v)\n",
    "vstar"
   ]
  },
  {
   "cell_type": "markdown",
   "id": "5e360209-f23d-47ba-a8e7-1ae9127ced6a",
   "metadata": {},
   "source": [
    "## Numerical Analysis \n",
    "\n",
    "\n"
   ]
  },
  {
   "cell_type": "markdown",
   "id": "e3394f71",
   "metadata": {},
   "source": [
    "**ATTENTION: The following numerical analysis requires being downloaded (and opened in VS Code) in order for the figures to properly show (and update). Additionally ipywidgets must be installed**"
   ]
  },
  {
   "cell_type": "markdown",
   "id": "1a000e57",
   "metadata": {},
   "source": [
    "### **Phase Diagram**"
   ]
  },
  {
   "cell_type": "markdown",
   "id": "49d3937d",
   "metadata": {},
   "source": [
    "##### **How to use:** Change the sliders to the value as described with the bold text. After each of the following changes restart the model by rerunning the code, in order to make sure the correct results are shown  <br> <br> <br>"
   ]
  },
  {
   "cell_type": "markdown",
   "id": "e15c7f1d",
   "metadata": {},
   "source": [
    "The following code is a phase diagram of $v_t$ which display a 45-degree line where $v_t = v_{t+1}$ and our transition curve: \n",
    "$$v_{t+1} = \\frac{sw}{1+n}+\\frac{1-\\delta+sr}{1+n}v_t$$ \n",
    "We expect our transition curve to be linear since, it hasn't any non-linear properties. \n",
    "Our trasition curve is decreasing due to $v_t$ being multiplied by a value < 1 "
   ]
  },
  {
   "cell_type": "code",
   "execution_count": null,
   "id": "9b2899d0-ac44-4146-b4e1-35151aa8f008",
   "metadata": {},
   "outputs": [],
   "source": [
    "model = OpenEconomy()\n",
    "\n",
    "interact(model.phase_diagram,\n",
    "         s=FloatSlider(min=0, max=1, step=0.01, value=model.s, description='Savings Rate (s)'),\n",
    "         n=FloatSlider(min=0, max=0.1, step=0.001, value=model.n, description='Population Growth Rate (n)'),\n",
    "         alpha=FloatSlider(min=0, max=1, step=0.01, value=model.alpha, description='Output Elasticity of Capital (alpha)'),\n",
    "         A=FloatSlider(min=0.5, max=5, step=0.1, value=model.A, description='Technology Parameter (A)'),\n",
    "         delta=FloatSlider(min=0, max=0.1, step=0.01, value=model.delta, description='Depreciation Rate (delta)'))\n"
   ]
  },
  {
   "cell_type": "markdown",
   "id": "58653b76",
   "metadata": {},
   "source": [
    "As shown by default parameter values, the transition curve intersect with the long run growth trajectory (45-degree line), with a steady state value of $v^* = 6.77$"
   ]
  },
  {
   "cell_type": "markdown",
   "id": "94fb4309",
   "metadata": {},
   "source": [
    "#### Shocks in the economy\n",
    "**Savings rate increases from 20% to 25%**\n",
    "If the savings rate increases by 5%-points, we expect the steady state value to increase, due increased amount of wealth accumulation and longer time until the discount factors of depreciation rates and population growth gives a marginal product $MP_v ≤ 0$\n",
    "\n",
    "\n",
    "As expected the steady state value increased to $v^* = 8.59$"
   ]
  },
  {
   "cell_type": "markdown",
   "id": "1c51d33a",
   "metadata": {},
   "source": [
    "\n",
    "\n",
    "**Technological parameter increases from 1 to 1.2:** \n",
    "If the tecnological factor \"A\" increases to 1.2 will increase the overall output Y more than it will decreases capital K, why we expect the steady state of wealth to increases.\n",
    "\n",
    "\n",
    "As expected the steady state value increases, to $v^* =8.78$\n"
   ]
  },
  {
   "cell_type": "markdown",
   "id": "942e6ae8",
   "metadata": {},
   "source": [
    "\n",
    "\n",
    "**Population growth increases from 0.02 to 0.05**\n",
    "The value of wealth will be heavier discounted, due to the thinning effect on our per capita variable. Steady state is expected to decrease.\n",
    "\n",
    "\n",
    "The steady state value decreased to $v^* = 4.65$"
   ]
  },
  {
   "cell_type": "markdown",
   "id": "73410486",
   "metadata": {},
   "source": [
    "\n",
    "\n",
    "**While population growth is increased, the depreciation rate falls to 2%**\n",
    "Due to the values of population growth and depreciation rate has switched from the standard example, the steady state value is back to $v^* = 6.77$ as expected"
   ]
  },
  {
   "cell_type": "markdown",
   "id": "9a9a0e1e-8d63-4787-a3ab-9d21e480f287",
   "metadata": {},
   "source": [
    "# **Underlying variables**\n",
    "\n",
    "**Change parameters to see reaction and change \"shock\" in order to determine which period**"
   ]
  },
  {
   "cell_type": "markdown",
   "id": "5f33ddb1",
   "metadata": {},
   "source": [
    "The following figures display underlying variables that affect the growth of wealth creation."
   ]
  },
  {
   "cell_type": "code",
   "execution_count": null,
   "id": "64c0352c-39ae-4a56-9b93-511bea92b401",
   "metadata": {},
   "outputs": [],
   "source": [
    "interact(model.underlying_variables,\n",
    "         periods=IntSlider(min=50, max=500, step=50, value=100, description='Periods'),\n",
    "         shock=IntSlider(min=0, max=99, step=1, value=None, description='Shock Time', style={'description_width': 'initial'}),\n",
    "         s=FloatSlider(min=0.0, max=1.0, step=0.01, value=model.s, description='Savings Rate (s)'),\n",
    "         n=FloatSlider(min=0.0, max=0.1, step=0.001, value=model.n, description='Population Growth Rate (n)'),\n",
    "         alpha=FloatSlider(min=0.0, max=1.0, step=0.01, value=model.alpha, description='Output Elasticity of Capital (alpha)'),\n",
    "         A=FloatSlider(min=0.5, max=5.0, step=0.1, value=model.A, description='Technology Parameter (A)'),\n",
    "         delta=FloatSlider(min=0.0, max=0.1, step=0.01, value=model.delta, description='Depreciation Rate (delta)'),\n",
    "         r=FloatSlider(min=0.0, max=0.1, step=0.01, value=model.r, description='Interest rate'))"
   ]
  },
  {
   "cell_type": "markdown",
   "id": "991d8df7",
   "metadata": {},
   "source": [
    "As shown the curves of $k_t$ and $y_t$ is flat due to only showing the relationship between $K_t , Y_t$ with $L_t$"
   ]
  },
  {
   "cell_type": "markdown",
   "id": "803e40cd",
   "metadata": {},
   "source": [
    "Both capital, labour and output has increasing curves as expected due to their increasing nature from the parameters. As described in the phase diagram part, wealth has DRS as shown. "
   ]
  },
  {
   "cell_type": "markdown",
   "id": "f3d9fa89",
   "metadata": {},
   "source": [
    "#### *Economical shocks in the 30th period*\n",
    "##### **How to use:** Change the sliders to the value as described with the bold text. After each of the following changes restart the model by rerunning the code, in order to make sure the correct results are shown  <br> <br> <br>\n",
    "**Savings rate falls to 0.15** <br>\n",
    "Due to the fact that most of variables aren't directly related to the savings, only the value of $v_t$ decreases to topping on a lower value.\n",
    "<br>\n",
    "\n",
    "**Output elasticity increases to 0.4** <br>\n",
    "The increase result in a greater focus on capital which lead to an upward shock in $K_t$ and $Y_t$ and a upward spike in $k_t$ and $y_t$.\n",
    "<br>\n",
    "\n",
    "**Interest rate increases to 8%%** <br>\n",
    "An increase in the interest rate lead to a sharp fall in all variables except $L_t$, the reason for this is the fact, that interest rates increases, the borrowing costs increases why capital falls, which spreads out to the other variables.\n",
    "\n"
   ]
  },
  {
   "cell_type": "markdown",
   "id": "604b5e83-a4b9-4893-8190-1f2291f6b503",
   "metadata": {},
   "source": [
    "## **Convergence to Steady State**"
   ]
  },
  {
   "cell_type": "markdown",
   "id": "29e799ed",
   "metadata": {},
   "source": [
    "The figure below shows the number of periods until steady state and when the economy's covergence to steady state is half way"
   ]
  },
  {
   "cell_type": "code",
   "execution_count": null,
   "id": "8d9913e9-67cc-4a55-9850-aa3e41f0e204",
   "metadata": {},
   "outputs": [],
   "source": [
    "model.reset() \n",
    "\n",
    "\n",
    "interact(model.convergence_ss,\n",
    "         periods=IntSlider(min=50, max=500, step=50, value=100, description='Periods'),\n",
    "         shock=IntSlider(min=0, max=100, step=1, value=None, description='Shock Time', style={'description_width': 'initial'}),\n",
    "         s=FloatSlider(min=0, max=1, step=0.01, value=model.s, description='Savings Rate (s)'),\n",
    "         n=FloatSlider(min=0, max=0.1, step=0.001, value=model.n, description='Population Growth Rate (n)'),\n",
    "         alpha=FloatSlider(min=0, max=1, step=0.01, value=model.alpha, description='Output Elasticity of Capital (alpha)'),\n",
    "         A=FloatSlider(min=0.5, max=5, step=0.1, value=model.A, description='Technology Parameter (A)'),\n",
    "         delta=FloatSlider(min=0, max=0.1, step=0.01, value=model.delta, description='Depreciation Rate (delta)'))"
   ]
  },
  {
   "cell_type": "markdown",
   "id": "5cfe89a4",
   "metadata": {},
   "source": [
    "As shown the economy hits steady state after 96 periods. <br> <br>\n",
    "\n",
    "#### **What happens when shocks hit the economy in period 50?**\n",
    "**How to use:** Change the sliders to the value as described with the bold text. After each of the following changes restart the model by rerunning the code, in order to make sure the correct results are shown  <br> <br> <br>\n",
    "\n",
    "**Technological parameter increases to 1.2*** <br>\n",
    "$v_t$ now takes 100 periods to hit steady state\n",
    "\n",
    "\n",
    "**Savings rate increases to 30%** <br>\n",
    "The increases in savings rate has a even greater effect that leads to steady state in period 106\n",
    "\n",
    "\n",
    "**Depreciation rate increases to 7.5%** <br>\n",
    "The depreciation rate of 7.5% lowers the period to steady state to period 60%\n",
    "\n",
    "\n"
   ]
  },
  {
   "cell_type": "markdown",
   "id": "c68ec46b",
   "metadata": {},
   "source": [
    "# **Introducing shocks from Netto Export**\n",
    "**In order to get the most correct results, now will be a great idea to restart the kernel and run OpenEconomy2.py**\n",
    "\n",
    "\n",
    "The shock from nettoexport in this model is determind by competitiveness of exhange rates which is affected by the differences in interest rates and inflation rates.\n",
    "<br>\n",
    "The model is a simplified version of the dynamics and do not reflect the entire complexity which is also why their might be minor inadequacies fx. $y_t$ and $k_t$ development due to added shockfactor."
   ]
  },
  {
   "cell_type": "markdown",
   "id": "fd7feba5",
   "metadata": {},
   "source": [
    "### **Phase diagram with a nettoexport shock**\n",
    "\n",
    "##### **How to use:** Change the sliders to the value as described with the bold text. After each of the following changes restart the model by rerunning the code, in order to make sure the correct results are shown  <br> <br> \n",
    "With the default nettoexport shock the steady state value is $v_t = 6.88$"
   ]
  },
  {
   "cell_type": "code",
   "execution_count": null,
   "id": "d44435e1",
   "metadata": {},
   "outputs": [],
   "source": [
    "from OpenEconomy2 import OpenEconomyNX\n",
    "from ipywidgets import interact, IntSlider, FloatSlider\n",
    "\n",
    "model = OpenEconomyNX()\n",
    "\n",
    "\n",
    "interact(model.nx_phase_diagram,\n",
    "         alpha=FloatSlider(min=0.1, max=0.9, step=0.05, value=model.alpha, description='Alpha (Output Elasticity)'),\n",
    "         n=FloatSlider(min=0.01, max=0.05, step=0.005, value=model.n, description='n (Population Growth Rate)'),\n",
    "         s=FloatSlider(min=0.1, max=0.4, step=0.05, value=model.s, description='s (Savings Rate)'),\n",
    "         foreign_inflation_rate=FloatSlider(min=0.0, max=0.05, step=0.005, value=model.foreign_inflation_rate, description='Foreign Inflation Rate'),\n",
    "         domestic_inflation_rate=FloatSlider(min=0.0, max=0.05, step=0.005, value=model.domestic_inflation_rate, description='Domestic Inflation Rate'),\n",
    "         delta=FloatSlider(min=0.01, max=0.1, step=0.01, value=model.delta, description='Delta (Depreciation Rate)'))\n"
   ]
  },
  {
   "cell_type": "markdown",
   "id": "0e779535",
   "metadata": {},
   "source": [
    "#### **Shocks in parameters**\n",
    "\n",
    "**Foreign inflation rate increases to 5%** <br>\n",
    "An increase in the foreign inflation rate leads to a positive shocks, since foreign interest rate increases which leads to an increase in the exchange rate, and our economy becomes more competitive. <br>\n",
    "Steady state increases to $v_t=7.04$\n",
    "\n",
    "**Domestic inflation rate increases to 8%** <br>\n",
    "If the domestic inflation rate increases, the opposite happens as the scenario if the foreign inflation rate increases. This leads to a steady state value $v^* = 5.62$"
   ]
  },
  {
   "cell_type": "markdown",
   "id": "faca64c1",
   "metadata": {},
   "source": [
    "### **Effects of nettoexport shocks on the underlying variables**\n",
    "\n",
    "##### **How to use:** Change the sliders to the value as described with the bold text. After each of the following changes restart the model by rerunning the code, in order to make sure the correct results are shown  <br> "
   ]
  },
  {
   "cell_type": "code",
   "execution_count": 3,
   "id": "9e265466",
   "metadata": {},
   "outputs": [
    {
     "data": {
      "application/vnd.jupyter.widget-view+json": {
       "model_id": "5a32e5108af14c1fa7fffeb56e5c3654",
       "version_major": 2,
       "version_minor": 0
      },
      "text/plain": [
       "interactive(children=(IntSlider(value=100, description='Periods', max=500, min=50, step=10), IntSlider(value=0…"
      ]
     },
     "metadata": {},
     "output_type": "display_data"
    },
    {
     "data": {
      "text/plain": [
       "<function ipywidgets.widgets.interaction._InteractFactory.__call__.<locals>.<lambda>(*args, **kwargs)>"
      ]
     },
     "execution_count": 3,
     "metadata": {},
     "output_type": "execute_result"
    }
   ],
   "source": [
    "from OpenEconomy2 import OpenEconomyNX\n",
    "from ipywidgets import interact, IntSlider, FloatSlider\n",
    "\n",
    "model = OpenEconomyNX()\n",
    "\n",
    "\n",
    "interact(model.nx_underlying_variables,\n",
    "         periods=IntSlider(min=50, max=500, step=10, value=100, description='Periods'),\n",
    "         shock=IntSlider(min=0, max=100, step=1, value=0, description='Shock Time'),\n",
    "         alpha=FloatSlider(min=0.1, max=0.9, step=0.01, value=model.alpha, description='Alpha'),\n",
    "         n=FloatSlider(min=0, max=0.1, step=0.01, value=model.n, description='Population Growth (n)'),\n",
    "         s=FloatSlider(min=0.1, max=0.4, step=0.01, value=model.s, description='Savings Rate (s)'),\n",
    "         A=FloatSlider(min=0.5, max=2.0, step=0.1, value=model.A, description='Technology Factor (A)'),\n",
    "         delta=FloatSlider(min=0.01, max=0.1, step=0.01, value=model.delta, description='Depreciation Rate (delta)'),\n",
    "         foreign_inflation_rate=FloatSlider(min=0, max=0.1, step=0.01, value=model.foreign_inflation_rate, description='Foreign Inflation Rate'),\n",
    "         domestic_inflation_rate=FloatSlider(min=0, max=0.1, step=0.01, value=model.domestic_inflation_rate, description='Domestic Inflation Rate'))"
   ]
  },
  {
   "cell_type": "markdown",
   "id": "87ea457c",
   "metadata": {},
   "source": [
    "#### **Shocks in period 20**\n",
    "\n",
    "**Foreign inflation rate increases to 5%**\n",
    "An increase in the foreign inflation rate leads to a higher export which gives a increase in Yt, yt and vt\n",
    "\n",
    "\n",
    "\n",
    "**Domestic inflation rate increases to 8%**\n",
    "An increase in the domestic inflation lowers all variables except Lt that aren't influenced as expected\n",
    "\n",
    "\n"
   ]
  },
  {
   "cell_type": "markdown",
   "id": "c9669d4c",
   "metadata": {},
   "source": [
    "<br>\n",
    "\n",
    "\n",
    "# **Conclusion**\n",
    "The results of our model turns out as expected in terms of the development of wealth and the reactions that are followed by being exposed to several ecnonomical shocks. <br> <br>\n",
    "Our conclusion from our open economy is that all parameter changes that either increase productivity or capital $K_t$ accumulation are resulting in a longer convergence process due to extended higher growth periods,
    "over the long term growth path. <br> <br>\n",
    "Our nettoexport shock model, however, also tells a more nuanced story about the competitive advantageses and disadvantageses followed by the parameter changes. An example of this is the effect of the domestic inflationrate,
    "which can cause a negative shock if the economy is overheating, due to increased accumulation and activity. Also illustrated is the dynamic of open markets, wherein the economy benefits from having a lower domestic inflationrate,
    "compared to the simplified overall foreign inflationrate."
   ]
  }
 ],
 "metadata": {
  "kernelspec": {
   "display_name": "Python 3 (ipykernel)",
   "language": "python",
   "name": "python3"
  },
  "language_info": {
   "codemirror_mode": {
    "name": "ipython",
    "version": 3
   },
   "file_extension": ".py",
   "mimetype": "text/x-python",
   "name": "python",
   "nbconvert_exporter": "python",
   "pygments_lexer": "ipython3",
   "version": "3.11.7"
  }
 },
 "nbformat": 4,
 "nbformat_minor": 5
}
